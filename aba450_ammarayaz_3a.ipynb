{
 "cells": [
  {
   "cell_type": "code",
   "execution_count": 3,
   "metadata": {},
   "outputs": [],
   "source": [
    "import findspark"
   ]
  },
  {
   "cell_type": "code",
   "execution_count": 4,
   "metadata": {},
   "outputs": [],
   "source": [
    "import numpy as np"
   ]
  },
  {
   "cell_type": "code",
   "execution_count": 5,
   "metadata": {},
   "outputs": [],
   "source": [
    "from pyspark.ml.feature import VectorAssembler\n",
    "from pyspark.ml.linalg import Vectors"
   ]
  },
  {
   "cell_type": "code",
   "execution_count": 6,
   "metadata": {},
   "outputs": [],
   "source": [
    "from pyspark.ml.feature import StandardScaler\n",
    "from pyspark.ml.clustering import KMeans"
   ]
  },
  {
   "cell_type": "code",
   "execution_count": 7,
   "metadata": {},
   "outputs": [],
   "source": [
    "from pyspark.sql import SparkSession\n",
    "from pyspark.sql.types import StructType, StructField, StringType, IntegerType\n",
    "import pyspark.sql.functions as func"
   ]
  },
  {
   "cell_type": "code",
   "execution_count": 8,
   "metadata": {},
   "outputs": [],
   "source": [
    "from pyspark.sql.functions import udf\n",
    "from pyspark.sql.types import FloatType\n",
    "from scipy.spatial import distance"
   ]
  },
  {
   "cell_type": "code",
   "execution_count": 9,
   "metadata": {},
   "outputs": [],
   "source": [
    "from pyspark.sql.window import Window\n",
    "from pyspark.sql.functions import rank, col"
   ]
  },
  {
   "cell_type": "markdown",
   "metadata": {},
   "source": [
    "# create spark session app and read the csv "
   ]
  },
  {
   "cell_type": "code",
   "execution_count": 10,
   "metadata": {},
   "outputs": [],
   "source": [
    "spark = SparkSession.builder.appName(\"take_home\").getOrCreate()\n",
    "\n",
    "df = spark.read .format(\"csv\").option(\"header\", \"true\").load(\"drive_stats_2019_Q1/*.csv\")"
   ]
  },
  {
   "cell_type": "markdown",
   "metadata": {},
   "source": [
    "# counting the number of failures by model using group by"
   ]
  },
  {
   "cell_type": "code",
   "execution_count": 11,
   "metadata": {},
   "outputs": [],
   "source": [
    "failures = df.select('model').filter(df.failure == 1).groupBy('model').count().withColumnRenamed('count', 'failures')"
   ]
  },
  {
   "cell_type": "markdown",
   "metadata": {},
   "source": [
    "# now counting the number of total days filtered by model using group by"
   ]
  },
  {
   "cell_type": "code",
   "execution_count": 9,
   "metadata": {},
   "outputs": [],
   "source": [
    "total = df.select('model').groupBy('model').count().withColumnRenamed('count', 'total')"
   ]
  },
  {
   "cell_type": "code",
   "execution_count": 10,
   "metadata": {},
   "outputs": [],
   "source": [
    "result = total.join(failures, [\"model\"])"
   ]
  },
  {
   "cell_type": "code",
   "execution_count": 29,
   "metadata": {},
   "outputs": [],
   "source": [
    "result = result.withColumn(\"annual_failure_rate\", 100.0 * (1.0 * func.col(\"failures\")) / ( (func.col(\"total\") / 365.0)))\n",
    "\n",
    "# now select annual failure rate and create a data frame\n",
    "\n",
    "df_failure = result.select(\"annual_failure_rate\",\"model\")\n",
    "\n"
   ]
  },
  {
   "cell_type": "code",
   "execution_count": 30,
   "metadata": {},
   "outputs": [
    {
     "name": "stdout",
     "output_type": "stream",
     "text": [
      "+-------------------+-------------------+\n",
      "|annual_failure_rate|              model|\n",
      "+-------------------+-------------------+\n",
      "|  1.963126103017499|        ST4000DM000|\n",
      "|  2.223331443896414|      ST12000NM0007|\n",
      "|  3.356424717999019|TOSHIBA MQ01ABF050M|\n",
      "| 1.6354423612790288|       ST8000NM0055|\n",
      "| 0.3336258272092428|TOSHIBA MG07ACA14TA|\n",
      "+-------------------+-------------------+\n",
      "only showing top 5 rows\n",
      "\n"
     ]
    }
   ],
   "source": [
    "df_failure.show(5)"
   ]
  },
  {
   "cell_type": "code",
   "execution_count": 34,
   "metadata": {},
   "outputs": [],
   "source": [
    "columns = [ 'annual_failure_rate']\n",
    "\n",
    "for col in df_failure.columns:\n",
    "    if col in columns:\n",
    "        df_new = df_failure.withColumn(col,df_failure[col].cast('float'))"
   ]
  },
  {
   "cell_type": "code",
   "execution_count": 35,
   "metadata": {},
   "outputs": [],
   "source": [
    "# dropping the invalid values from the data frame\n",
    "df_new = df_new.na.drop()"
   ]
  },
  {
   "cell_type": "code",
   "execution_count": 39,
   "metadata": {},
   "outputs": [],
   "source": [
    "vec_assembler = VectorAssembler(inputCols = columns, outputCol='a_failure_rate')"
   ]
  },
  {
   "cell_type": "code",
   "execution_count": 42,
   "metadata": {},
   "outputs": [],
   "source": [
    "# skipping the invalid values from the annual failure data frame\n",
    "data = vec_assembler.setHandleInvalid(\"skip\").transform(df_new).select('model', 'a_failure_rate')"
   ]
  },
  {
   "cell_type": "code",
   "execution_count": 43,
   "metadata": {},
   "outputs": [
    {
     "name": "stdout",
     "output_type": "stream",
     "text": [
      "+-------------------+--------------------+\n",
      "|              model|      a_failure_rate|\n",
      "+-------------------+--------------------+\n",
      "|        ST4000DM000|[1.9631260633468628]|\n",
      "|      ST12000NM0007|[2.2233314514160156]|\n",
      "|TOSHIBA MQ01ABF050M|[3.3564248085021973]|\n",
      "|       ST8000NM0055|[1.6354423761367798]|\n",
      "|TOSHIBA MG07ACA14TA|[0.33362582325935...|\n",
      "+-------------------+--------------------+\n",
      "only showing top 5 rows\n",
      "\n"
     ]
    }
   ],
   "source": [
    "data.show(5)"
   ]
  },
  {
   "cell_type": "code",
   "execution_count": 44,
   "metadata": {},
   "outputs": [],
   "source": [
    "cost = np.zeros(6)\n",
    "for k in range(2,6):\n",
    "    kmeans = KMeans().setK(k).setSeed(1).setFeaturesCol(\"a_failure_rate\")\n",
    "    model = kmeans.fit(data)\n",
    "    cost[k] = model.computeCost(data)"
   ]
  },
  {
   "cell_type": "code",
   "execution_count": 46,
   "metadata": {},
   "outputs": [],
   "source": [
    "import matplotlib.pyplot as plt"
   ]
  },
  {
   "cell_type": "code",
   "execution_count": 47,
   "metadata": {},
   "outputs": [
    {
     "data": {
      "text/plain": [
       "Text(0, 0.5, 'cost')"
      ]
     },
     "execution_count": 47,
     "metadata": {},
     "output_type": "execute_result"
    },
    {
     "data": {
      "image/png": "[encoded data removed]",
      "text/plain": [
       "<Figure size 576x432 with 1 Axes>"
      ]
     },
     "metadata": {
      "needs_background": "light"
     },
     "output_type": "display_data"
    }
   ],
   "source": [
    "fig, ax = plt.subplots(1,1, figsize =(8,6))\n",
    "ax.plot(range(2,6),cost[2:6])\n",
    "ax.set_xlabel('k')\n",
    "ax.set_ylabel('cost')"
   ]
  },
  {
   "cell_type": "code",
   "execution_count": 48,
   "metadata": {},
   "outputs": [],
   "source": [
    "# using standard scaler to transform the features \n",
    "scaler = StandardScaler(inputCol=\"a_failure_rate\", outputCol=\"transformedFeatures\", withStd=True)\n",
    "scalerModel = scaler.fit(data)\n",
    "cluster_data = scalerModel.transform(data)"
   ]
  },
  {
   "cell_type": "code",
   "execution_count": 49,
   "metadata": {},
   "outputs": [],
   "source": [
    "# lets pass the transformed data to the kmeans package\n",
    "#looking at the cost graph it feels like 3 would be a good option for number of clusters\n",
    "kmeans = KMeans(featuresCol='transformedFeatures',k=3)\n",
    "model = kmeans.fit(cluster_data)\n"
   ]
  },
  {
   "cell_type": "code",
   "execution_count": 50,
   "metadata": {},
   "outputs": [
    {
     "name": "stdout",
     "output_type": "stream",
     "text": [
      "[[0.06354493841534699], [4.523329307999577], [0.545879114381973]]\n"
     ]
    }
   ],
   "source": [
    "# now getting the cluster centers\n",
    "centers = model.clusterCenters()\n",
    "centers = [center.tolist() for center in centers]\n",
    "print(centers)"
   ]
  },
  {
   "cell_type": "code",
   "execution_count": 51,
   "metadata": {},
   "outputs": [
    {
     "name": "stdout",
     "output_type": "stream",
     "text": [
      "+-------------------+--------------------+--------------------+\n",
      "|              model|      a_failure_rate| transformedFeatures|\n",
      "+-------------------+--------------------+--------------------+\n",
      "|        ST4000DM000|[1.9631260633468628]|[0.06641653091085...|\n",
      "|      ST12000NM0007|[2.2233314514160156]|[0.07521980621881...|\n",
      "|TOSHIBA MQ01ABF050M|[3.3564248085021973]|[0.1135546494980613]|\n",
      "|       ST8000NM0055|[1.6354423761367798]|[0.05533032806993...|\n",
      "|TOSHIBA MG07ACA14TA|[0.33362582325935...|[0.01128723733889...|\n",
      "+-------------------+--------------------+--------------------+\n",
      "only showing top 5 rows\n",
      "\n"
     ]
    }
   ],
   "source": [
    "cluster_data.show(5)"
   ]
  },
  {
   "cell_type": "code",
   "execution_count": 53,
   "metadata": {},
   "outputs": [],
   "source": [
    "predictions = model.transform(cluster_data).orderBy(\"prediction\")"
   ]
  },
  {
   "cell_type": "code",
   "execution_count": 54,
   "metadata": {},
   "outputs": [
    {
     "name": "stdout",
     "output_type": "stream",
     "text": [
      "+-------------------+--------------------+--------------------+----------+\n",
      "|              model|      a_failure_rate| transformedFeatures|prediction|\n",
      "+-------------------+--------------------+--------------------+----------+\n",
      "|TOSHIBA MQ01ABF050M|[3.3564248085021973]|[0.1135546494980613]|         0|\n",
      "|       ST8000NM0055|[1.6354423761367798]|[0.05533032806993...|         0|\n",
      "|      ST12000NM0007|[2.2233314514160156]|[0.07521980621881...|         0|\n",
      "|        ST4000DM000|[1.9631260633468628]|[0.06641653091085...|         0|\n",
      "|TOSHIBA MG07ACA14TA|[0.33362582325935...|[0.01128723733889...|         0|\n",
      "+-------------------+--------------------+--------------------+----------+\n",
      "only showing top 5 rows\n",
      "\n"
     ]
    }
   ],
   "source": [
    "predictions.show(5)"
   ]
  },
  {
   "cell_type": "code",
   "execution_count": 55,
   "metadata": {},
   "outputs": [],
   "source": [
    "# defining a user defined function to calculate the euclidean distance\n",
    "euclidean = func.udf(lambda x,y: float(distance.euclidean(x, centers[y])), FloatType())"
   ]
  },
  {
   "cell_type": "code",
   "execution_count": 56,
   "metadata": {},
   "outputs": [],
   "source": [
    "# calling the euclidean distance function on the tranformed features and storing it in distance column\n",
    "\n",
    "predictions = predictions.withColumn('distance', euclidean(func.col('transformedFeatures'),func.col('prediction')))\n"
   ]
  },
  {
   "cell_type": "code",
   "execution_count": 57,
   "metadata": {},
   "outputs": [
    {
     "name": "stdout",
     "output_type": "stream",
     "text": [
      "+-------------------+--------------------+--------------------+----------+------------+\n",
      "|              model|      a_failure_rate| transformedFeatures|prediction|    distance|\n",
      "+-------------------+--------------------+--------------------+----------+------------+\n",
      "|        ST4000DM000|[1.9631260633468628]|[0.06641653091085...|         0|0.0028715925|\n",
      "|      ST12000NM0007|[2.2233314514160156]|[0.07521980621881...|         0| 0.011674868|\n",
      "|TOSHIBA MQ01ABF050M|[3.3564248085021973]|[0.1135546494980613]|         0| 0.050009713|\n",
      "|       ST8000NM0055|[1.6354423761367798]|[0.05533032806993...|         0| 0.008214611|\n",
      "|TOSHIBA MG07ACA14TA|[0.33362582325935...|[0.01128723733889...|         0|   0.0522577|\n",
      "+-------------------+--------------------+--------------------+----------+------------+\n",
      "only showing top 5 rows\n",
      "\n"
     ]
    }
   ],
   "source": [
    "predictions.show(5)"
   ]
  },
  {
   "cell_type": "code",
   "execution_count": 58,
   "metadata": {},
   "outputs": [],
   "source": [
    "# lets display the rows based on sorted distance in descending order\n",
    "predictions = predictions.orderBy(\"prediction\").orderBy(func.desc(\"distance\"))"
   ]
  },
  {
   "cell_type": "code",
   "execution_count": 59,
   "metadata": {},
   "outputs": [
    {
     "name": "stdout",
     "output_type": "stream",
     "text": [
      "+--------------------+--------------------+--------------------+----------+-----------+\n",
      "|               model|      a_failure_rate| transformedFeatures|prediction|   distance|\n",
      "+--------------------+--------------------+--------------------+----------+-----------+\n",
      "|       ST500LM012 HN| [8.652877807617188]|[0.29274438208910...|         0| 0.22919944|\n",
      "|          ST500LM030|[22.688030242919922]|[0.7675820162900872]|         2|  0.2217029|\n",
      "|  TOSHIBA MQ01ABF050|  [10.8795166015625]|[0.36807608240450...|         2| 0.17780302|\n",
      "|HGST HMS5C4040ALE640|[0.23294180631637...|[0.00788089311659...|         0|0.055664044|\n",
      "|         ST6000DX000|[0.2687143087387085]|[0.00909114932848...|         0| 0.05445379|\n",
      "+--------------------+--------------------+--------------------+----------+-----------+\n",
      "only showing top 5 rows\n",
      "\n"
     ]
    }
   ],
   "source": [
    "predictions.show(5)"
   ]
  },
  {
   "cell_type": "code",
   "execution_count": 60,
   "metadata": {},
   "outputs": [],
   "source": [
    "window = Window.partitionBy(predictions['prediction']).orderBy(predictions['distance'].desc())"
   ]
  },
  {
   "cell_type": "code",
   "execution_count": 61,
   "metadata": {},
   "outputs": [],
   "source": [
    "# trying out different thresholds\n",
    "threshold = 15"
   ]
  },
  {
   "cell_type": "code",
   "execution_count": 63,
   "metadata": {},
   "outputs": [
    {
     "name": "stdout",
     "output_type": "stream",
     "text": [
      "+--------------------+----------+-----------+--------------------+----+\n",
      "|      a_failure_rate|prediction|   distance|               model|rank|\n",
      "+--------------------+----------+-----------+--------------------+----+\n",
      "| [133.6996307373047]|         1|        0.0|         ST8000DM004|   1|\n",
      "|[22.688030242919922]|         2|  0.2217029|          ST500LM030|   1|\n",
      "|  [10.8795166015625]|         2| 0.17780302|  TOSHIBA MQ01ABF050|   2|\n",
      "|[14.837398529052734]|         2| 0.04389987|      WDC WD5000LPCX|   3|\n",
      "| [8.652877807617188]|         0| 0.22919944|       ST500LM012 HN|   1|\n",
      "|[0.23294180631637...|         0|0.055664044|HGST HMS5C4040ALE640|   2|\n",
      "|[0.2687143087387085]|         0| 0.05445379|         ST6000DX000|   3|\n",
      "|[0.33362582325935...|         0|  0.0522577| TOSHIBA MG07ACA14TA|   4|\n",
      "|[0.34233611822128...|         0|0.051963013|HGST HMS5C4040BLE640|   5|\n",
      "|[3.3564248085021973]|         0|0.050009713| TOSHIBA MQ01ABF050M|   6|\n",
      "+--------------------+----------+-----------+--------------------+----+\n",
      "only showing top 10 rows\n",
      "\n"
     ]
    }
   ],
   "source": [
    "predictions.select('a_failure_rate','prediction','distance','model', rank().over(window).alias('rank')) .filter(func.col('rank') <= threshold) .show(10)\n",
    "\n"
   ]
  },
  {
   "cell_type": "code",
   "execution_count": 65,
   "metadata": {},
   "outputs": [],
   "source": [
    "threshold_new = 10"
   ]
  },
  {
   "cell_type": "code",
   "execution_count": 66,
   "metadata": {},
   "outputs": [
    {
     "name": "stdout",
     "output_type": "stream",
     "text": [
      "+--------------------+----------+-----------+--------------------+----+\n",
      "|      a_failure_rate|prediction|   distance|               model|rank|\n",
      "+--------------------+----------+-----------+--------------------+----+\n",
      "| [133.6996307373047]|         1|        0.0|         ST8000DM004|   1|\n",
      "|[22.688030242919922]|         2|  0.2217029|          ST500LM030|   1|\n",
      "|  [10.8795166015625]|         2| 0.17780302|  TOSHIBA MQ01ABF050|   2|\n",
      "|[14.837398529052734]|         2| 0.04389987|      WDC WD5000LPCX|   3|\n",
      "| [8.652877807617188]|         0| 0.22919944|       ST500LM012 HN|   1|\n",
      "|[0.23294180631637...|         0|0.055664044|HGST HMS5C4040ALE640|   2|\n",
      "|[0.2687143087387085]|         0| 0.05445379|         ST6000DX000|   3|\n",
      "|[0.33362582325935...|         0|  0.0522577| TOSHIBA MG07ACA14TA|   4|\n",
      "|[0.34233611822128...|         0|0.051963013|HGST HMS5C4040BLE640|   5|\n",
      "|[3.3564248085021973]|         0|0.050009713| TOSHIBA MQ01ABF050M|   6|\n",
      "+--------------------+----------+-----------+--------------------+----+\n",
      "only showing top 10 rows\n",
      "\n"
     ]
    }
   ],
   "source": [
    "predictions.select('a_failure_rate','prediction','distance','model', rank().over(window).alias('rank')) .filter(func.col('rank') <= threshold_new) .show(10)\n"
   ]
  },
  {
   "cell_type": "code",
   "execution_count": null,
   "metadata": {},
   "outputs": [],
   "source": []
  }
 ],
 "metadata": {
  "kernelspec": {
   "display_name": "Python 3",
   "language": "python",
   "name": "python3"
  },
  "language_info": {
   "codemirror_mode": {
    "name": "ipython",
    "version": 3
   },
   "file_extension": ".py",
   "mimetype": "text/x-python",
   "name": "python",
   "nbconvert_exporter": "python",
   "pygments_lexer": "ipython3",
   "version": "3.7.3"
  }
 },
 "nbformat": 4,
 "nbformat_minor": 2
}
