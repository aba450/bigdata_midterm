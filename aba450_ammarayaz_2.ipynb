{
 "cells": [
  {
   "cell_type": "code",
   "execution_count": 1,
   "metadata": {},
   "outputs": [],
   "source": [
    "import findspark"
   ]
  },
  {
   "cell_type": "code",
   "execution_count": 9,
   "metadata": {},
   "outputs": [],
   "source": [
    "\n",
    "from pyspark.sql import SparkSession\n",
    "from pyspark.sql.types import StructType, StructField, StringType, IntegerType\n",
    "import pyspark.sql.functions as func"
   ]
  },
  {
   "cell_type": "code",
   "execution_count": 17,
   "metadata": {},
   "outputs": [
    {
     "name": "stdout",
     "output_type": "stream",
     "text": [
      " (a) single dataframe from all CSV files in the zip, with header information\n",
      "root\n",
      " |-- date: string (nullable = true)\n",
      " |-- serial_number: string (nullable = true)\n",
      " |-- model: string (nullable = true)\n",
      " |-- capacity_bytes: string (nullable = true)\n",
      " |-- failure: string (nullable = true)\n",
      " |-- smart_1_normalized: string (nullable = true)\n",
      " |-- smart_1_raw: string (nullable = true)\n",
      " |-- smart_2_normalized: string (nullable = true)\n",
      " |-- smart_2_raw: string (nullable = true)\n",
      " |-- smart_3_normalized: string (nullable = true)\n",
      " |-- smart_3_raw: string (nullable = true)\n",
      " |-- smart_4_normalized: string (nullable = true)\n",
      " |-- smart_4_raw: string (nullable = true)\n",
      " |-- smart_5_normalized: string (nullable = true)\n",
      " |-- smart_5_raw: string (nullable = true)\n",
      " |-- smart_7_normalized: string (nullable = true)\n",
      " |-- smart_7_raw: string (nullable = true)\n",
      " |-- smart_8_normalized: string (nullable = true)\n",
      " |-- smart_8_raw: string (nullable = true)\n",
      " |-- smart_9_normalized: string (nullable = true)\n",
      " |-- smart_9_raw: string (nullable = true)\n",
      " |-- smart_10_normalized: string (nullable = true)\n",
      " |-- smart_10_raw: string (nullable = true)\n",
      " |-- smart_11_normalized: string (nullable = true)\n",
      " |-- smart_11_raw: string (nullable = true)\n",
      " |-- smart_12_normalized: string (nullable = true)\n",
      " |-- smart_12_raw: string (nullable = true)\n",
      " |-- smart_13_normalized: string (nullable = true)\n",
      " |-- smart_13_raw: string (nullable = true)\n",
      " |-- smart_15_normalized: string (nullable = true)\n",
      " |-- smart_15_raw: string (nullable = true)\n",
      " |-- smart_16_normalized: string (nullable = true)\n",
      " |-- smart_16_raw: string (nullable = true)\n",
      " |-- smart_17_normalized: string (nullable = true)\n",
      " |-- smart_17_raw: string (nullable = true)\n",
      " |-- smart_22_normalized: string (nullable = true)\n",
      " |-- smart_22_raw: string (nullable = true)\n",
      " |-- smart_23_normalized: string (nullable = true)\n",
      " |-- smart_23_raw: string (nullable = true)\n",
      " |-- smart_24_normalized: string (nullable = true)\n",
      " |-- smart_24_raw: string (nullable = true)\n",
      " |-- smart_168_normalized: string (nullable = true)\n",
      " |-- smart_168_raw: string (nullable = true)\n",
      " |-- smart_170_normalized: string (nullable = true)\n",
      " |-- smart_170_raw: string (nullable = true)\n",
      " |-- smart_173_normalized: string (nullable = true)\n",
      " |-- smart_173_raw: string (nullable = true)\n",
      " |-- smart_174_normalized: string (nullable = true)\n",
      " |-- smart_174_raw: string (nullable = true)\n",
      " |-- smart_177_normalized: string (nullable = true)\n",
      " |-- smart_177_raw: string (nullable = true)\n",
      " |-- smart_179_normalized: string (nullable = true)\n",
      " |-- smart_179_raw: string (nullable = true)\n",
      " |-- smart_181_normalized: string (nullable = true)\n",
      " |-- smart_181_raw: string (nullable = true)\n",
      " |-- smart_182_normalized: string (nullable = true)\n",
      " |-- smart_182_raw: string (nullable = true)\n",
      " |-- smart_183_normalized: string (nullable = true)\n",
      " |-- smart_183_raw: string (nullable = true)\n",
      " |-- smart_184_normalized: string (nullable = true)\n",
      " |-- smart_184_raw: string (nullable = true)\n",
      " |-- smart_187_normalized: string (nullable = true)\n",
      " |-- smart_187_raw: string (nullable = true)\n",
      " |-- smart_188_normalized: string (nullable = true)\n",
      " |-- smart_188_raw: string (nullable = true)\n",
      " |-- smart_189_normalized: string (nullable = true)\n",
      " |-- smart_189_raw: string (nullable = true)\n",
      " |-- smart_190_normalized: string (nullable = true)\n",
      " |-- smart_190_raw: string (nullable = true)\n",
      " |-- smart_191_normalized: string (nullable = true)\n",
      " |-- smart_191_raw: string (nullable = true)\n",
      " |-- smart_192_normalized: string (nullable = true)\n",
      " |-- smart_192_raw: string (nullable = true)\n",
      " |-- smart_193_normalized: string (nullable = true)\n",
      " |-- smart_193_raw: string (nullable = true)\n",
      " |-- smart_194_normalized: string (nullable = true)\n",
      " |-- smart_194_raw: string (nullable = true)\n",
      " |-- smart_195_normalized: string (nullable = true)\n",
      " |-- smart_195_raw: string (nullable = true)\n",
      " |-- smart_196_normalized: string (nullable = true)\n",
      " |-- smart_196_raw: string (nullable = true)\n",
      " |-- smart_197_normalized: string (nullable = true)\n",
      " |-- smart_197_raw: string (nullable = true)\n",
      " |-- smart_198_normalized: string (nullable = true)\n",
      " |-- smart_198_raw: string (nullable = true)\n",
      " |-- smart_199_normalized: string (nullable = true)\n",
      " |-- smart_199_raw: string (nullable = true)\n",
      " |-- smart_200_normalized: string (nullable = true)\n",
      " |-- smart_200_raw: string (nullable = true)\n",
      " |-- smart_201_normalized: string (nullable = true)\n",
      " |-- smart_201_raw: string (nullable = true)\n",
      " |-- smart_218_normalized: string (nullable = true)\n",
      " |-- smart_218_raw: string (nullable = true)\n",
      " |-- smart_220_normalized: string (nullable = true)\n",
      " |-- smart_220_raw: string (nullable = true)\n",
      " |-- smart_222_normalized: string (nullable = true)\n",
      " |-- smart_222_raw: string (nullable = true)\n",
      " |-- smart_223_normalized: string (nullable = true)\n",
      " |-- smart_223_raw: string (nullable = true)\n",
      " |-- smart_224_normalized: string (nullable = true)\n",
      " |-- smart_224_raw: string (nullable = true)\n",
      " |-- smart_225_normalized: string (nullable = true)\n",
      " |-- smart_225_raw: string (nullable = true)\n",
      " |-- smart_226_normalized: string (nullable = true)\n",
      " |-- smart_226_raw: string (nullable = true)\n",
      " |-- smart_231_normalized: string (nullable = true)\n",
      " |-- smart_231_raw: string (nullable = true)\n",
      " |-- smart_232_normalized: string (nullable = true)\n",
      " |-- smart_232_raw: string (nullable = true)\n",
      " |-- smart_233_normalized: string (nullable = true)\n",
      " |-- smart_233_raw: string (nullable = true)\n",
      " |-- smart_235_normalized: string (nullable = true)\n",
      " |-- smart_235_raw: string (nullable = true)\n",
      " |-- smart_240_normalized: string (nullable = true)\n",
      " |-- smart_240_raw: string (nullable = true)\n",
      " |-- smart_241_normalized: string (nullable = true)\n",
      " |-- smart_241_raw: string (nullable = true)\n",
      " |-- smart_242_normalized: string (nullable = true)\n",
      " |-- smart_242_raw: string (nullable = true)\n",
      " |-- smart_250_normalized: string (nullable = true)\n",
      " |-- smart_250_raw: string (nullable = true)\n",
      " |-- smart_251_normalized: string (nullable = true)\n",
      " |-- smart_251_raw: string (nullable = true)\n",
      " |-- smart_252_normalized: string (nullable = true)\n",
      " |-- smart_252_raw: string (nullable = true)\n",
      " |-- smart_254_normalized: string (nullable = true)\n",
      " |-- smart_254_raw: string (nullable = true)\n",
      " |-- smart_255_normalized: string (nullable = true)\n",
      " |-- smart_255_raw: string (nullable = true)\n",
      "\n",
      "None\n"
     ]
    }
   ],
   "source": [
    "spark = SparkSession.builder.appName(\"take_home\").getOrCreate()\n",
    "\n",
    "\n",
    "df = spark.read .format(\"csv\").option(\"header\", \"true\").load(\"drive_stats_2019_Q1/*.csv\")\n",
    "\n",
    "print(\" (a) single dataframe from all CSV files in the zip, with header information\")\n",
    "print(df.printSchema())"
   ]
  },
  {
   "cell_type": "code",
   "execution_count": 18,
   "metadata": {},
   "outputs": [
    {
     "name": "stdout",
     "output_type": "stream",
     "text": [
      " (b) data frame columns\n",
      "['date', 'serial_number', 'model', 'capacity_bytes', 'failure', 'smart_1_normalized', 'smart_1_raw', 'smart_2_normalized', 'smart_2_raw', 'smart_3_normalized', 'smart_3_raw', 'smart_4_normalized', 'smart_4_raw', 'smart_5_normalized', 'smart_5_raw', 'smart_7_normalized', 'smart_7_raw', 'smart_8_normalized', 'smart_8_raw', 'smart_9_normalized', 'smart_9_raw', 'smart_10_normalized', 'smart_10_raw', 'smart_11_normalized', 'smart_11_raw', 'smart_12_normalized', 'smart_12_raw', 'smart_13_normalized', 'smart_13_raw', 'smart_15_normalized', 'smart_15_raw', 'smart_16_normalized', 'smart_16_raw', 'smart_17_normalized', 'smart_17_raw', 'smart_22_normalized', 'smart_22_raw', 'smart_23_normalized', 'smart_23_raw', 'smart_24_normalized', 'smart_24_raw', 'smart_168_normalized', 'smart_168_raw', 'smart_170_normalized', 'smart_170_raw', 'smart_173_normalized', 'smart_173_raw', 'smart_174_normalized', 'smart_174_raw', 'smart_177_normalized', 'smart_177_raw', 'smart_179_normalized', 'smart_179_raw', 'smart_181_normalized', 'smart_181_raw', 'smart_182_normalized', 'smart_182_raw', 'smart_183_normalized', 'smart_183_raw', 'smart_184_normalized', 'smart_184_raw', 'smart_187_normalized', 'smart_187_raw', 'smart_188_normalized', 'smart_188_raw', 'smart_189_normalized', 'smart_189_raw', 'smart_190_normalized', 'smart_190_raw', 'smart_191_normalized', 'smart_191_raw', 'smart_192_normalized', 'smart_192_raw', 'smart_193_normalized', 'smart_193_raw', 'smart_194_normalized', 'smart_194_raw', 'smart_195_normalized', 'smart_195_raw', 'smart_196_normalized', 'smart_196_raw', 'smart_197_normalized', 'smart_197_raw', 'smart_198_normalized', 'smart_198_raw', 'smart_199_normalized', 'smart_199_raw', 'smart_200_normalized', 'smart_200_raw', 'smart_201_normalized', 'smart_201_raw', 'smart_218_normalized', 'smart_218_raw', 'smart_220_normalized', 'smart_220_raw', 'smart_222_normalized', 'smart_222_raw', 'smart_223_normalized', 'smart_223_raw', 'smart_224_normalized', 'smart_224_raw', 'smart_225_normalized', 'smart_225_raw', 'smart_226_normalized', 'smart_226_raw', 'smart_231_normalized', 'smart_231_raw', 'smart_232_normalized', 'smart_232_raw', 'smart_233_normalized', 'smart_233_raw', 'smart_235_normalized', 'smart_235_raw', 'smart_240_normalized', 'smart_240_raw', 'smart_241_normalized', 'smart_241_raw', 'smart_242_normalized', 'smart_242_raw', 'smart_250_normalized', 'smart_250_raw', 'smart_251_normalized', 'smart_251_raw', 'smart_252_normalized', 'smart_252_raw', 'smart_254_normalized', 'smart_254_raw', 'smart_255_normalized', 'smart_255_raw']\n"
     ]
    }
   ],
   "source": [
    "print(\" (b) data frame columns\")\n",
    "print(df.columns)"
   ]
  },
  {
   "cell_type": "code",
   "execution_count": 19,
   "metadata": {},
   "outputs": [
    {
     "name": "stdout",
     "output_type": "stream",
     "text": [
      " (c) first 20 rows, sorted by capacity (desceding) , model (ascending)\n",
      "[Row(date='2019-03-12', serial_number='VKH0W6EX', model='HGST HUH728080ALE600', capacity_bytes='8001563222016', failure='0', smart_1_normalized='100', smart_1_raw='0', smart_2_normalized='133', smart_2_raw='108', smart_3_normalized='100', smart_3_raw='0', smart_4_normalized='100', smart_4_raw='7', smart_5_normalized='100', smart_5_raw='0', smart_7_normalized='100', smart_7_raw='0', smart_8_normalized='128', smart_8_raw='18', smart_9_normalized='99', smart_9_raw='11512', smart_10_normalized='100', smart_10_raw='0', smart_11_normalized=None, smart_11_raw=None, smart_12_normalized='100', smart_12_raw='7', smart_13_normalized=None, smart_13_raw=None, smart_15_normalized=None, smart_15_raw=None, smart_16_normalized=None, smart_16_raw=None, smart_17_normalized=None, smart_17_raw=None, smart_22_normalized='100', smart_22_raw='100', smart_23_normalized=None, smart_23_raw=None, smart_24_normalized=None, smart_24_raw=None, smart_168_normalized=None, smart_168_raw=None, smart_170_normalized=None, smart_170_raw=None, smart_173_normalized=None, smart_173_raw=None, smart_174_normalized=None, smart_174_raw=None, smart_177_normalized=None, smart_177_raw=None, smart_179_normalized=None, smart_179_raw=None, smart_181_normalized=None, smart_181_raw=None, smart_182_normalized=None, smart_182_raw=None, smart_183_normalized=None, smart_183_raw=None, smart_184_normalized=None, smart_184_raw=None, smart_187_normalized=None, smart_187_raw=None, smart_188_normalized=None, smart_188_raw=None, smart_189_normalized=None, smart_189_raw=None, smart_190_normalized=None, smart_190_raw=None, smart_191_normalized=None, smart_191_raw=None, smart_192_normalized='100', smart_192_raw='466', smart_193_normalized='100', smart_193_raw='466', smart_194_normalized='206', smart_194_raw='29', smart_195_normalized=None, smart_195_raw=None, smart_196_normalized='100', smart_196_raw='0', smart_197_normalized='100', smart_197_raw='0', smart_198_normalized='100', smart_198_raw='0', smart_199_normalized='200', smart_199_raw='0', smart_200_normalized=None, smart_200_raw=None, smart_201_normalized=None, smart_201_raw=None, smart_218_normalized=None, smart_218_raw=None, smart_220_normalized=None, smart_220_raw=None, smart_222_normalized=None, smart_222_raw=None, smart_223_normalized=None, smart_223_raw=None, smart_224_normalized=None, smart_224_raw=None, smart_225_normalized=None, smart_225_raw=None, smart_226_normalized=None, smart_226_raw=None, smart_231_normalized=None, smart_231_raw=None, smart_232_normalized=None, smart_232_raw=None, smart_233_normalized=None, smart_233_raw=None, smart_235_normalized=None, smart_235_raw=None, smart_240_normalized=None, smart_240_raw=None, smart_241_normalized=None, smart_241_raw=None, smart_242_normalized=None, smart_242_raw=None, smart_250_normalized=None, smart_250_raw=None, smart_251_normalized=None, smart_251_raw=None, smart_252_normalized=None, smart_252_raw=None, smart_254_normalized=None, smart_254_raw=None, smart_255_normalized=None, smart_255_raw=None), Row(date='2019-03-12', serial_number='VKGZDYWX', model='HGST HUH728080ALE600', capacity_bytes='8001563222016', failure='0', smart_1_normalized='100', smart_1_raw='0', smart_2_normalized='133', smart_2_raw='107', smart_3_normalized='100', smart_3_raw='0', smart_4_normalized='100', smart_4_raw='1', smart_5_normalized='100', smart_5_raw='0', smart_7_normalized='100', smart_7_raw='0', smart_8_normalized='128', smart_8_raw='18', smart_9_normalized='99', smart_9_raw='11512', smart_10_normalized='100', smart_10_raw='0', smart_11_normalized=None, smart_11_raw=None, smart_12_normalized='100', smart_12_raw='1', smart_13_normalized=None, smart_13_raw=None, smart_15_normalized=None, smart_15_raw=None, smart_16_normalized=None, smart_16_raw=None, smart_17_normalized=None, smart_17_raw=None, smart_22_normalized='100', smart_22_raw='100', smart_23_normalized=None, smart_23_raw=None, smart_24_normalized=None, smart_24_raw=None, smart_168_normalized=None, smart_168_raw=None, smart_170_normalized=None, smart_170_raw=None, smart_173_normalized=None, smart_173_raw=None, smart_174_normalized=None, smart_174_raw=None, smart_177_normalized=None, smart_177_raw=None, smart_179_normalized=None, smart_179_raw=None, smart_181_normalized=None, smart_181_raw=None, smart_182_normalized=None, smart_182_raw=None, smart_183_normalized=None, smart_183_raw=None, smart_184_normalized=None, smart_184_raw=None, smart_187_normalized=None, smart_187_raw=None, smart_188_normalized=None, smart_188_raw=None, smart_189_normalized=None, smart_189_raw=None, smart_190_normalized=None, smart_190_raw=None, smart_191_normalized=None, smart_191_raw=None, smart_192_normalized='92', smart_192_raw='9651', smart_193_normalized='92', smart_193_raw='9651', smart_194_normalized='187', smart_194_raw='32', smart_195_normalized=None, smart_195_raw=None, smart_196_normalized='100', smart_196_raw='0', smart_197_normalized='100', smart_197_raw='0', smart_198_normalized='100', smart_198_raw='0', smart_199_normalized='200', smart_199_raw='0', smart_200_normalized=None, smart_200_raw=None, smart_201_normalized=None, smart_201_raw=None, smart_218_normalized=None, smart_218_raw=None, smart_220_normalized=None, smart_220_raw=None, smart_222_normalized=None, smart_222_raw=None, smart_223_normalized=None, smart_223_raw=None, smart_224_normalized=None, smart_224_raw=None, smart_225_normalized=None, smart_225_raw=None, smart_226_normalized=None, smart_226_raw=None, smart_231_normalized=None, smart_231_raw=None, smart_232_normalized=None, smart_232_raw=None, smart_233_normalized=None, smart_233_raw=None, smart_235_normalized=None, smart_235_raw=None, smart_240_normalized=None, smart_240_raw=None, smart_241_normalized=None, smart_241_raw=None, smart_242_normalized=None, smart_242_raw=None, smart_250_normalized=None, smart_250_raw=None, smart_251_normalized=None, smart_251_raw=None, smart_252_normalized=None, smart_252_raw=None, smart_254_normalized=None, smart_254_raw=None, smart_255_normalized=None, smart_255_raw=None), Row(date='2019-03-12', serial_number='VKG6WMMX', model='HGST HUH728080ALE600', capacity_bytes='8001563222016', failure='0', smart_1_normalized='100', smart_1_raw='0', smart_2_normalized='133', smart_2_raw='107', smart_3_normalized='100', smart_3_raw='0', smart_4_normalized='100', smart_4_raw='5', smart_5_normalized='100', smart_5_raw='0', smart_7_normalized='100', smart_7_raw='0', smart_8_normalized='128', smart_8_raw='18', smart_9_normalized='99', smart_9_raw='11522', smart_10_normalized='100', smart_10_raw='0', smart_11_normalized=None, smart_11_raw=None, smart_12_normalized='100', smart_12_raw='5', smart_13_normalized=None, smart_13_raw=None, smart_15_normalized=None, smart_15_raw=None, smart_16_normalized=None, smart_16_raw=None, smart_17_normalized=None, smart_17_raw=None, smart_22_normalized='100', smart_22_raw='100', smart_23_normalized=None, smart_23_raw=None, smart_24_normalized=None, smart_24_raw=None, smart_168_normalized=None, smart_168_raw=None, smart_170_normalized=None, smart_170_raw=None, smart_173_normalized=None, smart_173_raw=None, smart_174_normalized=None, smart_174_raw=None, smart_177_normalized=None, smart_177_raw=None, smart_179_normalized=None, smart_179_raw=None, smart_181_normalized=None, smart_181_raw=None, smart_182_normalized=None, smart_182_raw=None, smart_183_normalized=None, smart_183_raw=None, smart_184_normalized=None, smart_184_raw=None, smart_187_normalized=None, smart_187_raw=None, smart_188_normalized=None, smart_188_raw=None, smart_189_normalized=None, smart_189_raw=None, smart_190_normalized=None, smart_190_raw=None, smart_191_normalized=None, smart_191_raw=None, smart_192_normalized='92', smart_192_raw='10073', smart_193_normalized='92', smart_193_raw='10073', smart_194_normalized='176', smart_194_raw='34', smart_195_normalized=None, smart_195_raw=None, smart_196_normalized='100', smart_196_raw='0', smart_197_normalized='100', smart_197_raw='0', smart_198_normalized='100', smart_198_raw='0', smart_199_normalized='200', smart_199_raw='0', smart_200_normalized=None, smart_200_raw=None, smart_201_normalized=None, smart_201_raw=None, smart_218_normalized=None, smart_218_raw=None, smart_220_normalized=None, smart_220_raw=None, smart_222_normalized=None, smart_222_raw=None, smart_223_normalized=None, smart_223_raw=None, smart_224_normalized=None, smart_224_raw=None, smart_225_normalized=None, smart_225_raw=None, smart_226_normalized=None, smart_226_raw=None, smart_231_normalized=None, smart_231_raw=None, smart_232_normalized=None, smart_232_raw=None, smart_233_normalized=None, smart_233_raw=None, smart_235_normalized=None, smart_235_raw=None, smart_240_normalized=None, smart_240_raw=None, smart_241_normalized=None, smart_241_raw=None, smart_242_normalized=None, smart_242_raw=None, smart_250_normalized=None, smart_250_raw=None, smart_251_normalized=None, smart_251_raw=None, smart_252_normalized=None, smart_252_raw=None, smart_254_normalized=None, smart_254_raw=None, smart_255_normalized=None, smart_255_raw=None), Row(date='2019-03-12', serial_number='VKGJVMUX', model='HGST HUH728080ALE600', capacity_bytes='8001563222016', failure='0', smart_1_normalized='100', smart_1_raw='0', smart_2_normalized='133', smart_2_raw='108', smart_3_normalized='100', smart_3_raw='0', smart_4_normalized='100', smart_4_raw='3', smart_5_normalized='100', smart_5_raw='0', smart_7_normalized='100', smart_7_raw='0', smart_8_normalized='128', smart_8_raw='18', smart_9_normalized='99', smart_9_raw='11516', smart_10_normalized='100', smart_10_raw='0', smart_11_normalized=None, smart_11_raw=None, smart_12_normalized='100', smart_12_raw='3', smart_13_normalized=None, smart_13_raw=None, smart_15_normalized=None, smart_15_raw=None, smart_16_normalized=None, smart_16_raw=None, smart_17_normalized=None, smart_17_raw=None, smart_22_normalized='100', smart_22_raw='100', smart_23_normalized=None, smart_23_raw=None, smart_24_normalized=None, smart_24_raw=None, smart_168_normalized=None, smart_168_raw=None, smart_170_normalized=None, smart_170_raw=None, smart_173_normalized=None, smart_173_raw=None, smart_174_normalized=None, smart_174_raw=None, smart_177_normalized=None, smart_177_raw=None, smart_179_normalized=None, smart_179_raw=None, smart_181_normalized=None, smart_181_raw=None, smart_182_normalized=None, smart_182_raw=None, smart_183_normalized=None, smart_183_raw=None, smart_184_normalized=None, smart_184_raw=None, smart_187_normalized=None, smart_187_raw=None, smart_188_normalized=None, smart_188_raw=None, smart_189_normalized=None, smart_189_raw=None, smart_190_normalized=None, smart_190_raw=None, smart_191_normalized=None, smart_191_raw=None, smart_192_normalized='91', smart_192_raw='11114', smart_193_normalized='91', smart_193_raw='11114', smart_194_normalized='200', smart_194_raw='30', smart_195_normalized=None, smart_195_raw=None, smart_196_normalized='100', smart_196_raw='0', smart_197_normalized='100', smart_197_raw='0', smart_198_normalized='100', smart_198_raw='0', smart_199_normalized='200', smart_199_raw='0', smart_200_normalized=None, smart_200_raw=None, smart_201_normalized=None, smart_201_raw=None, smart_218_normalized=None, smart_218_raw=None, smart_220_normalized=None, smart_220_raw=None, smart_222_normalized=None, smart_222_raw=None, smart_223_normalized=None, smart_223_raw=None, smart_224_normalized=None, smart_224_raw=None, smart_225_normalized=None, smart_225_raw=None, smart_226_normalized=None, smart_226_raw=None, smart_231_normalized=None, smart_231_raw=None, smart_232_normalized=None, smart_232_raw=None, smart_233_normalized=None, smart_233_raw=None, smart_235_normalized=None, smart_235_raw=None, smart_240_normalized=None, smart_240_raw=None, smart_241_normalized=None, smart_241_raw=None, smart_242_normalized=None, smart_242_raw=None, smart_250_normalized=None, smart_250_raw=None, smart_251_normalized=None, smart_251_raw=None, smart_252_normalized=None, smart_252_raw=None, smart_254_normalized=None, smart_254_raw=None, smart_255_normalized=None, smart_255_raw=None), Row(date='2019-03-12', serial_number='VKGKMLAX', model='HGST HUH728080ALE600', capacity_bytes='8001563222016', failure='0', smart_1_normalized='100', smart_1_raw='0', smart_2_normalized='134', smart_2_raw='104', smart_3_normalized='100', smart_3_raw='0', smart_4_normalized='100', smart_4_raw='1', smart_5_normalized='100', smart_5_raw='0', smart_7_normalized='100', smart_7_raw='0', smart_8_normalized='128', smart_8_raw='18', smart_9_normalized='99', smart_9_raw='11524', smart_10_normalized='100', smart_10_raw='0', smart_11_normalized=None, smart_11_raw=None, smart_12_normalized='100', smart_12_raw='1', smart_13_normalized=None, smart_13_raw=None, smart_15_normalized=None, smart_15_raw=None, smart_16_normalized=None, smart_16_raw=None, smart_17_normalized=None, smart_17_raw=None, smart_22_normalized='100', smart_22_raw='100', smart_23_normalized=None, smart_23_raw=None, smart_24_normalized=None, smart_24_raw=None, smart_168_normalized=None, smart_168_raw=None, smart_170_normalized=None, smart_170_raw=None, smart_173_normalized=None, smart_173_raw=None, smart_174_normalized=None, smart_174_raw=None, smart_177_normalized=None, smart_177_raw=None, smart_179_normalized=None, smart_179_raw=None, smart_181_normalized=None, smart_181_raw=None, smart_182_normalized=None, smart_182_raw=None, smart_183_normalized=None, smart_183_raw=None, smart_184_normalized=None, smart_184_raw=None, smart_187_normalized=None, smart_187_raw=None, smart_188_normalized=None, smart_188_raw=None, smart_189_normalized=None, smart_189_raw=None, smart_190_normalized=None, smart_190_raw=None, smart_191_normalized=None, smart_191_raw=None, smart_192_normalized='92', smart_192_raw='10402', smart_193_normalized='92', smart_193_raw='10402', smart_194_normalized='200', smart_194_raw='30', smart_195_normalized=None, smart_195_raw=None, smart_196_normalized='100', smart_196_raw='0', smart_197_normalized='100', smart_197_raw='0', smart_198_normalized='100', smart_198_raw='0', smart_199_normalized='200', smart_199_raw='0', smart_200_normalized=None, smart_200_raw=None, smart_201_normalized=None, smart_201_raw=None, smart_218_normalized=None, smart_218_raw=None, smart_220_normalized=None, smart_220_raw=None, smart_222_normalized=None, smart_222_raw=None, smart_223_normalized=None, smart_223_raw=None, smart_224_normalized=None, smart_224_raw=None, smart_225_normalized=None, smart_225_raw=None, smart_226_normalized=None, smart_226_raw=None, smart_231_normalized=None, smart_231_raw=None, smart_232_normalized=None, smart_232_raw=None, smart_233_normalized=None, smart_233_raw=None, smart_235_normalized=None, smart_235_raw=None, smart_240_normalized=None, smart_240_raw=None, smart_241_normalized=None, smart_241_raw=None, smart_242_normalized=None, smart_242_raw=None, smart_250_normalized=None, smart_250_raw=None, smart_251_normalized=None, smart_251_raw=None, smart_252_normalized=None, smart_252_raw=None, smart_254_normalized=None, smart_254_raw=None, smart_255_normalized=None, smart_255_raw=None), Row(date='2019-03-12', serial_number='VKGKWJUX', model='HGST HUH728080ALE600', capacity_bytes='8001563222016', failure='0', smart_1_normalized='100', smart_1_raw='0', smart_2_normalized='134', smart_2_raw='104', smart_3_normalized='100', smart_3_raw='0', smart_4_normalized='100', smart_4_raw='1', smart_5_normalized='100', smart_5_raw='0', smart_7_normalized='100', smart_7_raw='0', smart_8_normalized='128', smart_8_raw='18', smart_9_normalized='99', smart_9_raw='11514', smart_10_normalized='100', smart_10_raw='0', smart_11_normalized=None, smart_11_raw=None, smart_12_normalized='100', smart_12_raw='1', smart_13_normalized=None, smart_13_raw=None, smart_15_normalized=None, smart_15_raw=None, smart_16_normalized=None, smart_16_raw=None, smart_17_normalized=None, smart_17_raw=None, smart_22_normalized='100', smart_22_raw='100', smart_23_normalized=None, smart_23_raw=None, smart_24_normalized=None, smart_24_raw=None, smart_168_normalized=None, smart_168_raw=None, smart_170_normalized=None, smart_170_raw=None, smart_173_normalized=None, smart_173_raw=None, smart_174_normalized=None, smart_174_raw=None, smart_177_normalized=None, smart_177_raw=None, smart_179_normalized=None, smart_179_raw=None, smart_181_normalized=None, smart_181_raw=None, smart_182_normalized=None, smart_182_raw=None, smart_183_normalized=None, smart_183_raw=None, smart_184_normalized=None, smart_184_raw=None, smart_187_normalized=None, smart_187_raw=None, smart_188_normalized=None, smart_188_raw=None, smart_189_normalized=None, smart_189_raw=None, smart_190_normalized=None, smart_190_raw=None, smart_191_normalized=None, smart_191_raw=None, smart_192_normalized='93', smart_192_raw='9364', smart_193_normalized='93', smart_193_raw='9364', smart_194_normalized='187', smart_194_raw='32', smart_195_normalized=None, smart_195_raw=None, smart_196_normalized='100', smart_196_raw='0', smart_197_normalized='100', smart_197_raw='0', smart_198_normalized='100', smart_198_raw='0', smart_199_normalized='200', smart_199_raw='0', smart_200_normalized=None, smart_200_raw=None, smart_201_normalized=None, smart_201_raw=None, smart_218_normalized=None, smart_218_raw=None, smart_220_normalized=None, smart_220_raw=None, smart_222_normalized=None, smart_222_raw=None, smart_223_normalized=None, smart_223_raw=None, smart_224_normalized=None, smart_224_raw=None, smart_225_normalized=None, smart_225_raw=None, smart_226_normalized=None, smart_226_raw=None, smart_231_normalized=None, smart_231_raw=None, smart_232_normalized=None, smart_232_raw=None, smart_233_normalized=None, smart_233_raw=None, smart_235_normalized=None, smart_235_raw=None, smart_240_normalized=None, smart_240_raw=None, smart_241_normalized=None, smart_241_raw=None, smart_242_normalized=None, smart_242_raw=None, smart_250_normalized=None, smart_250_raw=None, smart_251_normalized=None, smart_251_raw=None, smart_252_normalized=None, smart_252_raw=None, smart_254_normalized=None, smart_254_raw=None, smart_255_normalized=None, smart_255_raw=None), Row(date='2019-03-12', serial_number='VKGM0N0X', model='HGST HUH728080ALE600', capacity_bytes='8001563222016', failure='0', smart_1_normalized='100', smart_1_raw='0', smart_2_normalized='134', smart_2_raw='104', smart_3_normalized='100', smart_3_raw='0', smart_4_normalized='100', smart_4_raw='3', smart_5_normalized='100', smart_5_raw='0', smart_7_normalized='100', smart_7_raw='0', smart_8_normalized='128', smart_8_raw='18', smart_9_normalized='99', smart_9_raw='11526', smart_10_normalized='100', smart_10_raw='0', smart_11_normalized=None, smart_11_raw=None, smart_12_normalized='100', smart_12_raw='3', smart_13_normalized=None, smart_13_raw=None, smart_15_normalized=None, smart_15_raw=None, smart_16_normalized=None, smart_16_raw=None, smart_17_normalized=None, smart_17_raw=None, smart_22_normalized='100', smart_22_raw='100', smart_23_normalized=None, smart_23_raw=None, smart_24_normalized=None, smart_24_raw=None, smart_168_normalized=None, smart_168_raw=None, smart_170_normalized=None, smart_170_raw=None, smart_173_normalized=None, smart_173_raw=None, smart_174_normalized=None, smart_174_raw=None, smart_177_normalized=None, smart_177_raw=None, smart_179_normalized=None, smart_179_raw=None, smart_181_normalized=None, smart_181_raw=None, smart_182_normalized=None, smart_182_raw=None, smart_183_normalized=None, smart_183_raw=None, smart_184_normalized=None, smart_184_raw=None, smart_187_normalized=None, smart_187_raw=None, smart_188_normalized=None, smart_188_raw=None, smart_189_normalized=None, smart_189_raw=None, smart_190_normalized=None, smart_190_raw=None, smart_191_normalized=None, smart_191_raw=None, smart_192_normalized='90', smart_192_raw='12281', smart_193_normalized='90', smart_193_raw='12281', smart_194_normalized='176', smart_194_raw='34', smart_195_normalized=None, smart_195_raw=None, smart_196_normalized='100', smart_196_raw='0', smart_197_normalized='100', smart_197_raw='0', smart_198_normalized='100', smart_198_raw='0', smart_199_normalized='200', smart_199_raw='0', smart_200_normalized=None, smart_200_raw=None, smart_201_normalized=None, smart_201_raw=None, smart_218_normalized=None, smart_218_raw=None, smart_220_normalized=None, smart_220_raw=None, smart_222_normalized=None, smart_222_raw=None, smart_223_normalized=None, smart_223_raw=None, smart_224_normalized=None, smart_224_raw=None, smart_225_normalized=None, smart_225_raw=None, smart_226_normalized=None, smart_226_raw=None, smart_231_normalized=None, smart_231_raw=None, smart_232_normalized=None, smart_232_raw=None, smart_233_normalized=None, smart_233_raw=None, smart_235_normalized=None, smart_235_raw=None, smart_240_normalized=None, smart_240_raw=None, smart_241_normalized=None, smart_241_raw=None, smart_242_normalized=None, smart_242_raw=None, smart_250_normalized=None, smart_250_raw=None, smart_251_normalized=None, smart_251_raw=None, smart_252_normalized=None, smart_252_raw=None, smart_254_normalized=None, smart_254_raw=None, smart_255_normalized=None, smart_255_raw=None), Row(date='2019-03-12', serial_number='VKH7KN3X', model='HGST HUH728080ALE600', capacity_bytes='8001563222016', failure='0', smart_1_normalized='100', smart_1_raw='0', smart_2_normalized='134', smart_2_raw='104', smart_3_normalized='100', smart_3_raw='0', smart_4_normalized='100', smart_4_raw='7', smart_5_normalized='100', smart_5_raw='0', smart_7_normalized='100', smart_7_raw='0', smart_8_normalized='128', smart_8_raw='18', smart_9_normalized='99', smart_9_raw='11514', smart_10_normalized='100', smart_10_raw='0', smart_11_normalized=None, smart_11_raw=None, smart_12_normalized='100', smart_12_raw='7', smart_13_normalized=None, smart_13_raw=None, smart_15_normalized=None, smart_15_raw=None, smart_16_normalized=None, smart_16_raw=None, smart_17_normalized=None, smart_17_raw=None, smart_22_normalized='100', smart_22_raw='100', smart_23_normalized=None, smart_23_raw=None, smart_24_normalized=None, smart_24_raw=None, smart_168_normalized=None, smart_168_raw=None, smart_170_normalized=None, smart_170_raw=None, smart_173_normalized=None, smart_173_raw=None, smart_174_normalized=None, smart_174_raw=None, smart_177_normalized=None, smart_177_raw=None, smart_179_normalized=None, smart_179_raw=None, smart_181_normalized=None, smart_181_raw=None, smart_182_normalized=None, smart_182_raw=None, smart_183_normalized=None, smart_183_raw=None, smart_184_normalized=None, smart_184_raw=None, smart_187_normalized=None, smart_187_raw=None, smart_188_normalized=None, smart_188_raw=None, smart_189_normalized=None, smart_189_raw=None, smart_190_normalized=None, smart_190_raw=None, smart_191_normalized=None, smart_191_raw=None, smart_192_normalized='100', smart_192_raw='471', smart_193_normalized='100', smart_193_raw='471', smart_194_normalized='193', smart_194_raw='31', smart_195_normalized=None, smart_195_raw=None, smart_196_normalized='100', smart_196_raw='0', smart_197_normalized='100', smart_197_raw='0', smart_198_normalized='100', smart_198_raw='0', smart_199_normalized='200', smart_199_raw='0', smart_200_normalized=None, smart_200_raw=None, smart_201_normalized=None, smart_201_raw=None, smart_218_normalized=None, smart_218_raw=None, smart_220_normalized=None, smart_220_raw=None, smart_222_normalized=None, smart_222_raw=None, smart_223_normalized=None, smart_223_raw=None, smart_224_normalized=None, smart_224_raw=None, smart_225_normalized=None, smart_225_raw=None, smart_226_normalized=None, smart_226_raw=None, smart_231_normalized=None, smart_231_raw=None, smart_232_normalized=None, smart_232_raw=None, smart_233_normalized=None, smart_233_raw=None, smart_235_normalized=None, smart_235_raw=None, smart_240_normalized=None, smart_240_raw=None, smart_241_normalized=None, smart_241_raw=None, smart_242_normalized=None, smart_242_raw=None, smart_250_normalized=None, smart_250_raw=None, smart_251_normalized=None, smart_251_raw=None, smart_252_normalized=None, smart_252_raw=None, smart_254_normalized=None, smart_254_raw=None, smart_255_normalized=None, smart_255_raw=None), Row(date='2019-03-12', serial_number='VKGJLK6X', model='HGST HUH728080ALE600', capacity_bytes='8001563222016', failure='0', smart_1_normalized='100', smart_1_raw='0', smart_2_normalized='132', smart_2_raw='112', smart_3_normalized='100', smart_3_raw='0', smart_4_normalized='100', smart_4_raw='2', smart_5_normalized='100', smart_5_raw='0', smart_7_normalized='100', smart_7_raw='0', smart_8_normalized='128', smart_8_raw='18', smart_9_normalized='99', smart_9_raw='11518', smart_10_normalized='100', smart_10_raw='0', smart_11_normalized=None, smart_11_raw=None, smart_12_normalized='100', smart_12_raw='2', smart_13_normalized=None, smart_13_raw=None, smart_15_normalized=None, smart_15_raw=None, smart_16_normalized=None, smart_16_raw=None, smart_17_normalized=None, smart_17_raw=None, smart_22_normalized='100', smart_22_raw='100', smart_23_normalized=None, smart_23_raw=None, smart_24_normalized=None, smart_24_raw=None, smart_168_normalized=None, smart_168_raw=None, smart_170_normalized=None, smart_170_raw=None, smart_173_normalized=None, smart_173_raw=None, smart_174_normalized=None, smart_174_raw=None, smart_177_normalized=None, smart_177_raw=None, smart_179_normalized=None, smart_179_raw=None, smart_181_normalized=None, smart_181_raw=None, smart_182_normalized=None, smart_182_raw=None, smart_183_normalized=None, smart_183_raw=None, smart_184_normalized=None, smart_184_raw=None, smart_187_normalized=None, smart_187_raw=None, smart_188_normalized=None, smart_188_raw=None, smart_189_normalized=None, smart_189_raw=None, smart_190_normalized=None, smart_190_raw=None, smart_191_normalized=None, smart_191_raw=None, smart_192_normalized='92', smart_192_raw='10339', smart_193_normalized='92', smart_193_raw='10339', smart_194_normalized='206', smart_194_raw='29', smart_195_normalized=None, smart_195_raw=None, smart_196_normalized='100', smart_196_raw='0', smart_197_normalized='100', smart_197_raw='0', smart_198_normalized='100', smart_198_raw='0', smart_199_normalized='200', smart_199_raw='0', smart_200_normalized=None, smart_200_raw=None, smart_201_normalized=None, smart_201_raw=None, smart_218_normalized=None, smart_218_raw=None, smart_220_normalized=None, smart_220_raw=None, smart_222_normalized=None, smart_222_raw=None, smart_223_normalized=None, smart_223_raw=None, smart_224_normalized=None, smart_224_raw=None, smart_225_normalized=None, smart_225_raw=None, smart_226_normalized=None, smart_226_raw=None, smart_231_normalized=None, smart_231_raw=None, smart_232_normalized=None, smart_232_raw=None, smart_233_normalized=None, smart_233_raw=None, smart_235_normalized=None, smart_235_raw=None, smart_240_normalized=None, smart_240_raw=None, smart_241_normalized=None, smart_241_raw=None, smart_242_normalized=None, smart_242_raw=None, smart_250_normalized=None, smart_250_raw=None, smart_251_normalized=None, smart_251_raw=None, smart_252_normalized=None, smart_252_raw=None, smart_254_normalized=None, smart_254_raw=None, smart_255_normalized=None, smart_255_raw=None), Row(date='2019-03-12', serial_number='VKGL4TLX', model='HGST HUH728080ALE600', capacity_bytes='8001563222016', failure='0', smart_1_normalized='100', smart_1_raw='0', smart_2_normalized='132', smart_2_raw='112', smart_3_normalized='100', smart_3_raw='0', smart_4_normalized='100', smart_4_raw='2', smart_5_normalized='100', smart_5_raw='0', smart_7_normalized='100', smart_7_raw='0', smart_8_normalized='128', smart_8_raw='18', smart_9_normalized='99', smart_9_raw='11520', smart_10_normalized='100', smart_10_raw='0', smart_11_normalized=None, smart_11_raw=None, smart_12_normalized='100', smart_12_raw='2', smart_13_normalized=None, smart_13_raw=None, smart_15_normalized=None, smart_15_raw=None, smart_16_normalized=None, smart_16_raw=None, smart_17_normalized=None, smart_17_raw=None, smart_22_normalized='100', smart_22_raw='100', smart_23_normalized=None, smart_23_raw=None, smart_24_normalized=None, smart_24_raw=None, smart_168_normalized=None, smart_168_raw=None, smart_170_normalized=None, smart_170_raw=None, smart_173_normalized=None, smart_173_raw=None, smart_174_normalized=None, smart_174_raw=None, smart_177_normalized=None, smart_177_raw=None, smart_179_normalized=None, smart_179_raw=None, smart_181_normalized=None, smart_181_raw=None, smart_182_normalized=None, smart_182_raw=None, smart_183_normalized=None, smart_183_raw=None, smart_184_normalized=None, smart_184_raw=None, smart_187_normalized=None, smart_187_raw=None, smart_188_normalized=None, smart_188_raw=None, smart_189_normalized=None, smart_189_raw=None, smart_190_normalized=None, smart_190_raw=None, smart_191_normalized=None, smart_191_raw=None, smart_192_normalized='93', smart_192_raw='9588', smart_193_normalized='93', smart_193_raw='9588', smart_194_normalized='206', smart_194_raw='29', smart_195_normalized=None, smart_195_raw=None, smart_196_normalized='100', smart_196_raw='0', smart_197_normalized='100', smart_197_raw='0', smart_198_normalized='100', smart_198_raw='0', smart_199_normalized='200', smart_199_raw='0', smart_200_normalized=None, smart_200_raw=None, smart_201_normalized=None, smart_201_raw=None, smart_218_normalized=None, smart_218_raw=None, smart_220_normalized=None, smart_220_raw=None, smart_222_normalized=None, smart_222_raw=None, smart_223_normalized=None, smart_223_raw=None, smart_224_normalized=None, smart_224_raw=None, smart_225_normalized=None, smart_225_raw=None, smart_226_normalized=None, smart_226_raw=None, smart_231_normalized=None, smart_231_raw=None, smart_232_normalized=None, smart_232_raw=None, smart_233_normalized=None, smart_233_raw=None, smart_235_normalized=None, smart_235_raw=None, smart_240_normalized=None, smart_240_raw=None, smart_241_normalized=None, smart_241_raw=None, smart_242_normalized=None, smart_242_raw=None, smart_250_normalized=None, smart_250_raw=None, smart_251_normalized=None, smart_251_raw=None, smart_252_normalized=None, smart_252_raw=None, smart_254_normalized=None, smart_254_raw=None, smart_255_normalized=None, smart_255_raw=None), Row(date='2019-03-12', serial_number='VKH69N2X', model='HGST HUH728080ALE600', capacity_bytes='8001563222016', failure='0', smart_1_normalized='100', smart_1_raw='0', smart_2_normalized='132', smart_2_raw='112', smart_3_normalized='100', smart_3_raw='0', smart_4_normalized='100', smart_4_raw='2', smart_5_normalized='100', smart_5_raw='0', smart_7_normalized='100', smart_7_raw='0', smart_8_normalized='128', smart_8_raw='18', smart_9_normalized='99', smart_9_raw='11528', smart_10_normalized='100', smart_10_raw='0', smart_11_normalized=None, smart_11_raw=None, smart_12_normalized='100', smart_12_raw='2', smart_13_normalized=None, smart_13_raw=None, smart_15_normalized=None, smart_15_raw=None, smart_16_normalized=None, smart_16_raw=None, smart_17_normalized=None, smart_17_raw=None, smart_22_normalized='100', smart_22_raw='100', smart_23_normalized=None, smart_23_raw=None, smart_24_normalized=None, smart_24_raw=None, smart_168_normalized=None, smart_168_raw=None, smart_170_normalized=None, smart_170_raw=None, smart_173_normalized=None, smart_173_raw=None, smart_174_normalized=None, smart_174_raw=None, smart_177_normalized=None, smart_177_raw=None, smart_179_normalized=None, smart_179_raw=None, smart_181_normalized=None, smart_181_raw=None, smart_182_normalized=None, smart_182_raw=None, smart_183_normalized=None, smart_183_raw=None, smart_184_normalized=None, smart_184_raw=None, smart_187_normalized=None, smart_187_raw=None, smart_188_normalized=None, smart_188_raw=None, smart_189_normalized=None, smart_189_raw=None, smart_190_normalized=None, smart_190_raw=None, smart_191_normalized=None, smart_191_raw=None, smart_192_normalized='100', smart_192_raw='494', smart_193_normalized='100', smart_193_raw='494', smart_194_normalized='187', smart_194_raw='32', smart_195_normalized=None, smart_195_raw=None, smart_196_normalized='100', smart_196_raw='0', smart_197_normalized='100', smart_197_raw='0', smart_198_normalized='100', smart_198_raw='0', smart_199_normalized='200', smart_199_raw='0', smart_200_normalized=None, smart_200_raw=None, smart_201_normalized=None, smart_201_raw=None, smart_218_normalized=None, smart_218_raw=None, smart_220_normalized=None, smart_220_raw=None, smart_222_normalized=None, smart_222_raw=None, smart_223_normalized=None, smart_223_raw=None, smart_224_normalized=None, smart_224_raw=None, smart_225_normalized=None, smart_225_raw=None, smart_226_normalized=None, smart_226_raw=None, smart_231_normalized=None, smart_231_raw=None, smart_232_normalized=None, smart_232_raw=None, smart_233_normalized=None, smart_233_raw=None, smart_235_normalized=None, smart_235_raw=None, smart_240_normalized=None, smart_240_raw=None, smart_241_normalized=None, smart_241_raw=None, smart_242_normalized=None, smart_242_raw=None, smart_250_normalized=None, smart_250_raw=None, smart_251_normalized=None, smart_251_raw=None, smart_252_normalized=None, smart_252_raw=None, smart_254_normalized=None, smart_254_raw=None, smart_255_normalized=None, smart_255_raw=None), Row(date='2019-03-12', serial_number='VKG0M01X', model='HGST HUH728080ALE600', capacity_bytes='8001563222016', failure='0', smart_1_normalized='100', smart_1_raw='0', smart_2_normalized='134', smart_2_raw='104', smart_3_normalized='100', smart_3_raw='0', smart_4_normalized='100', smart_4_raw='2', smart_5_normalized='100', smart_5_raw='0', smart_7_normalized='100', smart_7_raw='0', smart_8_normalized='128', smart_8_raw='18', smart_9_normalized='99', smart_9_raw='11510', smart_10_normalized='100', smart_10_raw='0', smart_11_normalized=None, smart_11_raw=None, smart_12_normalized='100', smart_12_raw='2', smart_13_normalized=None, smart_13_raw=None, smart_15_normalized=None, smart_15_raw=None, smart_16_normalized=None, smart_16_raw=None, smart_17_normalized=None, smart_17_raw=None, smart_22_normalized='100', smart_22_raw='100', smart_23_normalized=None, smart_23_raw=None, smart_24_normalized=None, smart_24_raw=None, smart_168_normalized=None, smart_168_raw=None, smart_170_normalized=None, smart_170_raw=None, smart_173_normalized=None, smart_173_raw=None, smart_174_normalized=None, smart_174_raw=None, smart_177_normalized=None, smart_177_raw=None, smart_179_normalized=None, smart_179_raw=None, smart_181_normalized=None, smart_181_raw=None, smart_182_normalized=None, smart_182_raw=None, smart_183_normalized=None, smart_183_raw=None, smart_184_normalized=None, smart_184_raw=None, smart_187_normalized=None, smart_187_raw=None, smart_188_normalized=None, smart_188_raw=None, smart_189_normalized=None, smart_189_raw=None, smart_190_normalized=None, smart_190_raw=None, smart_191_normalized=None, smart_191_raw=None, smart_192_normalized='91', smart_192_raw='11641', smart_193_normalized='91', smart_193_raw='11641', smart_194_normalized='240', smart_194_raw='25', smart_195_normalized=None, smart_195_raw=None, smart_196_normalized='100', smart_196_raw='0', smart_197_normalized='100', smart_197_raw='0', smart_198_normalized='100', smart_198_raw='0', smart_199_normalized='200', smart_199_raw='0', smart_200_normalized=None, smart_200_raw=None, smart_201_normalized=None, smart_201_raw=None, smart_218_normalized=None, smart_218_raw=None, smart_220_normalized=None, smart_220_raw=None, smart_222_normalized=None, smart_222_raw=None, smart_223_normalized=None, smart_223_raw=None, smart_224_normalized=None, smart_224_raw=None, smart_225_normalized=None, smart_225_raw=None, smart_226_normalized=None, smart_226_raw=None, smart_231_normalized=None, smart_231_raw=None, smart_232_normalized=None, smart_232_raw=None, smart_233_normalized=None, smart_233_raw=None, smart_235_normalized=None, smart_235_raw=None, smart_240_normalized=None, smart_240_raw=None, smart_241_normalized=None, smart_241_raw=None, smart_242_normalized=None, smart_242_raw=None, smart_250_normalized=None, smart_250_raw=None, smart_251_normalized=None, smart_251_raw=None, smart_252_normalized=None, smart_252_raw=None, smart_254_normalized=None, smart_254_raw=None, smart_255_normalized=None, smart_255_raw=None), Row(date='2019-03-12', serial_number='VKG93NJX', model='HGST HUH728080ALE600', capacity_bytes='8001563222016', failure='0', smart_1_normalized='100', smart_1_raw='0', smart_2_normalized='134', smart_2_raw='104', smart_3_normalized='100', smart_3_raw='0', smart_4_normalized='100', smart_4_raw='1', smart_5_normalized='100', smart_5_raw='0', smart_7_normalized='100', smart_7_raw='0', smart_8_normalized='128', smart_8_raw='18', smart_9_normalized='99', smart_9_raw='11519', smart_10_normalized='100', smart_10_raw='0', smart_11_normalized=None, smart_11_raw=None, smart_12_normalized='100', smart_12_raw='1', smart_13_normalized=None, smart_13_raw=None, smart_15_normalized=None, smart_15_raw=None, smart_16_normalized=None, smart_16_raw=None, smart_17_normalized=None, smart_17_raw=None, smart_22_normalized='100', smart_22_raw='100', smart_23_normalized=None, smart_23_raw=None, smart_24_normalized=None, smart_24_raw=None, smart_168_normalized=None, smart_168_raw=None, smart_170_normalized=None, smart_170_raw=None, smart_173_normalized=None, smart_173_raw=None, smart_174_normalized=None, smart_174_raw=None, smart_177_normalized=None, smart_177_raw=None, smart_179_normalized=None, smart_179_raw=None, smart_181_normalized=None, smart_181_raw=None, smart_182_normalized=None, smart_182_raw=None, smart_183_normalized=None, smart_183_raw=None, smart_184_normalized=None, smart_184_raw=None, smart_187_normalized=None, smart_187_raw=None, smart_188_normalized=None, smart_188_raw=None, smart_189_normalized=None, smart_189_raw=None, smart_190_normalized=None, smart_190_raw=None, smart_191_normalized=None, smart_191_raw=None, smart_192_normalized='91', smart_192_raw='11045', smart_193_normalized='91', smart_193_raw='11045', smart_194_normalized='240', smart_194_raw='25', smart_195_normalized=None, smart_195_raw=None, smart_196_normalized='100', smart_196_raw='0', smart_197_normalized='100', smart_197_raw='0', smart_198_normalized='100', smart_198_raw='0', smart_199_normalized='200', smart_199_raw='0', smart_200_normalized=None, smart_200_raw=None, smart_201_normalized=None, smart_201_raw=None, smart_218_normalized=None, smart_218_raw=None, smart_220_normalized=None, smart_220_raw=None, smart_222_normalized=None, smart_222_raw=None, smart_223_normalized=None, smart_223_raw=None, smart_224_normalized=None, smart_224_raw=None, smart_225_normalized=None, smart_225_raw=None, smart_226_normalized=None, smart_226_raw=None, smart_231_normalized=None, smart_231_raw=None, smart_232_normalized=None, smart_232_raw=None, smart_233_normalized=None, smart_233_raw=None, smart_235_normalized=None, smart_235_raw=None, smart_240_normalized=None, smart_240_raw=None, smart_241_normalized=None, smart_241_raw=None, smart_242_normalized=None, smart_242_raw=None, smart_250_normalized=None, smart_250_raw=None, smart_251_normalized=None, smart_251_raw=None, smart_252_normalized=None, smart_252_raw=None, smart_254_normalized=None, smart_254_raw=None, smart_255_normalized=None, smart_255_raw=None), Row(date='2019-03-12', serial_number='VKGM5TTX', model='HGST HUH728080ALE600', capacity_bytes='8001563222016', failure='0', smart_1_normalized='100', smart_1_raw='0', smart_2_normalized='132', smart_2_raw='111', smart_3_normalized='100', smart_3_raw='0', smart_4_normalized='100', smart_4_raw='3', smart_5_normalized='100', smart_5_raw='0', smart_7_normalized='100', smart_7_raw='0', smart_8_normalized='128', smart_8_raw='18', smart_9_normalized='99', smart_9_raw='11512', smart_10_normalized='100', smart_10_raw='0', smart_11_normalized=None, smart_11_raw=None, smart_12_normalized='100', smart_12_raw='3', smart_13_normalized=None, smart_13_raw=None, smart_15_normalized=None, smart_15_raw=None, smart_16_normalized=None, smart_16_raw=None, smart_17_normalized=None, smart_17_raw=None, smart_22_normalized='100', smart_22_raw='100', smart_23_normalized=None, smart_23_raw=None, smart_24_normalized=None, smart_24_raw=None, smart_168_normalized=None, smart_168_raw=None, smart_170_normalized=None, smart_170_raw=None, smart_173_normalized=None, smart_173_raw=None, smart_174_normalized=None, smart_174_raw=None, smart_177_normalized=None, smart_177_raw=None, smart_179_normalized=None, smart_179_raw=None, smart_181_normalized=None, smart_181_raw=None, smart_182_normalized=None, smart_182_raw=None, smart_183_normalized=None, smart_183_raw=None, smart_184_normalized=None, smart_184_raw=None, smart_187_normalized=None, smart_187_raw=None, smart_188_normalized=None, smart_188_raw=None, smart_189_normalized=None, smart_189_raw=None, smart_190_normalized=None, smart_190_raw=None, smart_191_normalized=None, smart_191_raw=None, smart_192_normalized='92', smart_192_raw='10335', smart_193_normalized='92', smart_193_raw='10335', smart_194_normalized='181', smart_194_raw='33', smart_195_normalized=None, smart_195_raw=None, smart_196_normalized='100', smart_196_raw='0', smart_197_normalized='100', smart_197_raw='0', smart_198_normalized='100', smart_198_raw='0', smart_199_normalized='200', smart_199_raw='0', smart_200_normalized=None, smart_200_raw=None, smart_201_normalized=None, smart_201_raw=None, smart_218_normalized=None, smart_218_raw=None, smart_220_normalized=None, smart_220_raw=None, smart_222_normalized=None, smart_222_raw=None, smart_223_normalized=None, smart_223_raw=None, smart_224_normalized=None, smart_224_raw=None, smart_225_normalized=None, smart_225_raw=None, smart_226_normalized=None, smart_226_raw=None, smart_231_normalized=None, smart_231_raw=None, smart_232_normalized=None, smart_232_raw=None, smart_233_normalized=None, smart_233_raw=None, smart_235_normalized=None, smart_235_raw=None, smart_240_normalized=None, smart_240_raw=None, smart_241_normalized=None, smart_241_raw=None, smart_242_normalized=None, smart_242_raw=None, smart_250_normalized=None, smart_250_raw=None, smart_251_normalized=None, smart_251_raw=None, smart_252_normalized=None, smart_252_raw=None, smart_254_normalized=None, smart_254_raw=None, smart_255_normalized=None, smart_255_raw=None), Row(date='2019-03-12', serial_number='2EG16MZJ', model='HGST HUH728080ALE600', capacity_bytes='8001563222016', failure='0', smart_1_normalized='100', smart_1_raw='0', smart_2_normalized='131', smart_2_raw='116', smart_3_normalized='100', smart_3_raw='0', smart_4_normalized='100', smart_4_raw='8', smart_5_normalized='100', smart_5_raw='0', smart_7_normalized='100', smart_7_raw='0', smart_8_normalized='128', smart_8_raw='18', smart_9_normalized='95', smart_9_raw='35896', smart_10_normalized='100', smart_10_raw='0', smart_11_normalized=None, smart_11_raw=None, smart_12_normalized='100', smart_12_raw='8', smart_13_normalized=None, smart_13_raw=None, smart_15_normalized=None, smart_15_raw=None, smart_16_normalized=None, smart_16_raw=None, smart_17_normalized=None, smart_17_raw=None, smart_22_normalized='100', smart_22_raw='100', smart_23_normalized=None, smart_23_raw=None, smart_24_normalized=None, smart_24_raw=None, smart_168_normalized=None, smart_168_raw=None, smart_170_normalized=None, smart_170_raw=None, smart_173_normalized=None, smart_173_raw=None, smart_174_normalized=None, smart_174_raw=None, smart_177_normalized=None, smart_177_raw=None, smart_179_normalized=None, smart_179_raw=None, smart_181_normalized=None, smart_181_raw=None, smart_182_normalized=None, smart_182_raw=None, smart_183_normalized=None, smart_183_raw=None, smart_184_normalized=None, smart_184_raw=None, smart_187_normalized=None, smart_187_raw=None, smart_188_normalized=None, smart_188_raw=None, smart_189_normalized=None, smart_189_raw=None, smart_190_normalized=None, smart_190_raw=None, smart_191_normalized=None, smart_191_raw=None, smart_192_normalized='73', smart_192_raw='33316', smart_193_normalized='73', smart_193_raw='33316', smart_194_normalized='250', smart_194_raw='24', smart_195_normalized=None, smart_195_raw=None, smart_196_normalized='100', smart_196_raw='0', smart_197_normalized='100', smart_197_raw='0', smart_198_normalized='100', smart_198_raw='0', smart_199_normalized='200', smart_199_raw='0', smart_200_normalized=None, smart_200_raw=None, smart_201_normalized=None, smart_201_raw=None, smart_218_normalized=None, smart_218_raw=None, smart_220_normalized=None, smart_220_raw=None, smart_222_normalized=None, smart_222_raw=None, smart_223_normalized=None, smart_223_raw=None, smart_224_normalized=None, smart_224_raw=None, smart_225_normalized=None, smart_225_raw=None, smart_226_normalized=None, smart_226_raw=None, smart_231_normalized=None, smart_231_raw=None, smart_232_normalized=None, smart_232_raw=None, smart_233_normalized=None, smart_233_raw=None, smart_235_normalized=None, smart_235_raw=None, smart_240_normalized=None, smart_240_raw=None, smart_241_normalized=None, smart_241_raw=None, smart_242_normalized=None, smart_242_raw=None, smart_250_normalized=None, smart_250_raw=None, smart_251_normalized=None, smart_251_raw=None, smart_252_normalized=None, smart_252_raw=None, smart_254_normalized=None, smart_254_raw=None, smart_255_normalized=None, smart_255_raw=None), Row(date='2019-03-12', serial_number='VKGH004X', model='HGST HUH728080ALE600', capacity_bytes='8001563222016', failure='0', smart_1_normalized='100', smart_1_raw='0', smart_2_normalized='134', smart_2_raw='104', smart_3_normalized='100', smart_3_raw='0', smart_4_normalized='100', smart_4_raw='3', smart_5_normalized='100', smart_5_raw='0', smart_7_normalized='100', smart_7_raw='0', smart_8_normalized='128', smart_8_raw='18', smart_9_normalized='99', smart_9_raw='11525', smart_10_normalized='100', smart_10_raw='0', smart_11_normalized=None, smart_11_raw=None, smart_12_normalized='100', smart_12_raw='3', smart_13_normalized=None, smart_13_raw=None, smart_15_normalized=None, smart_15_raw=None, smart_16_normalized=None, smart_16_raw=None, smart_17_normalized=None, smart_17_raw=None, smart_22_normalized='100', smart_22_raw='100', smart_23_normalized=None, smart_23_raw=None, smart_24_normalized=None, smart_24_raw=None, smart_168_normalized=None, smart_168_raw=None, smart_170_normalized=None, smart_170_raw=None, smart_173_normalized=None, smart_173_raw=None, smart_174_normalized=None, smart_174_raw=None, smart_177_normalized=None, smart_177_raw=None, smart_179_normalized=None, smart_179_raw=None, smart_181_normalized=None, smart_181_raw=None, smart_182_normalized=None, smart_182_raw=None, smart_183_normalized=None, smart_183_raw=None, smart_184_normalized=None, smart_184_raw=None, smart_187_normalized=None, smart_187_raw=None, smart_188_normalized=None, smart_188_raw=None, smart_189_normalized=None, smart_189_raw=None, smart_190_normalized=None, smart_190_raw=None, smart_191_normalized=None, smart_191_raw=None, smart_192_normalized='93', smart_192_raw='9526', smart_193_normalized='93', smart_193_raw='9526', smart_194_normalized='181', smart_194_raw='33', smart_195_normalized=None, smart_195_raw=None, smart_196_normalized='100', smart_196_raw='0', smart_197_normalized='100', smart_197_raw='0', smart_198_normalized='100', smart_198_raw='0', smart_199_normalized='200', smart_199_raw='0', smart_200_normalized=None, smart_200_raw=None, smart_201_normalized=None, smart_201_raw=None, smart_218_normalized=None, smart_218_raw=None, smart_220_normalized=None, smart_220_raw=None, smart_222_normalized=None, smart_222_raw=None, smart_223_normalized=None, smart_223_raw=None, smart_224_normalized=None, smart_224_raw=None, smart_225_normalized=None, smart_225_raw=None, smart_226_normalized=None, smart_226_raw=None, smart_231_normalized=None, smart_231_raw=None, smart_232_normalized=None, smart_232_raw=None, smart_233_normalized=None, smart_233_raw=None, smart_235_normalized=None, smart_235_raw=None, smart_240_normalized=None, smart_240_raw=None, smart_241_normalized=None, smart_241_raw=None, smart_242_normalized=None, smart_242_raw=None, smart_250_normalized=None, smart_250_raw=None, smart_251_normalized=None, smart_251_raw=None, smart_252_normalized=None, smart_252_raw=None, smart_254_normalized=None, smart_254_raw=None, smart_255_normalized=None, smart_255_raw=None), Row(date='2019-03-12', serial_number='VKGJAYLX', model='HGST HUH728080ALE600', capacity_bytes='8001563222016', failure='0', smart_1_normalized='100', smart_1_raw='0', smart_2_normalized='133', smart_2_raw='108', smart_3_normalized='100', smart_3_raw='0', smart_4_normalized='100', smart_4_raw='2', smart_5_normalized='100', smart_5_raw='0', smart_7_normalized='100', smart_7_raw='0', smart_8_normalized='128', smart_8_raw='18', smart_9_normalized='99', smart_9_raw='11525', smart_10_normalized='100', smart_10_raw='0', smart_11_normalized=None, smart_11_raw=None, smart_12_normalized='100', smart_12_raw='2', smart_13_normalized=None, smart_13_raw=None, smart_15_normalized=None, smart_15_raw=None, smart_16_normalized=None, smart_16_raw=None, smart_17_normalized=None, smart_17_raw=None, smart_22_normalized='100', smart_22_raw='100', smart_23_normalized=None, smart_23_raw=None, smart_24_normalized=None, smart_24_raw=None, smart_168_normalized=None, smart_168_raw=None, smart_170_normalized=None, smart_170_raw=None, smart_173_normalized=None, smart_173_raw=None, smart_174_normalized=None, smart_174_raw=None, smart_177_normalized=None, smart_177_raw=None, smart_179_normalized=None, smart_179_raw=None, smart_181_normalized=None, smart_181_raw=None, smart_182_normalized=None, smart_182_raw=None, smart_183_normalized=None, smart_183_raw=None, smart_184_normalized=None, smart_184_raw=None, smart_187_normalized=None, smart_187_raw=None, smart_188_normalized=None, smart_188_raw=None, smart_189_normalized=None, smart_189_raw=None, smart_190_normalized=None, smart_190_raw=None, smart_191_normalized=None, smart_191_raw=None, smart_192_normalized='91', smart_192_raw='11128', smart_193_normalized='91', smart_193_raw='11128', smart_194_normalized='253', smart_194_raw='23', smart_195_normalized=None, smart_195_raw=None, smart_196_normalized='100', smart_196_raw='0', smart_197_normalized='100', smart_197_raw='0', smart_198_normalized='100', smart_198_raw='0', smart_199_normalized='200', smart_199_raw='0', smart_200_normalized=None, smart_200_raw=None, smart_201_normalized=None, smart_201_raw=None, smart_218_normalized=None, smart_218_raw=None, smart_220_normalized=None, smart_220_raw=None, smart_222_normalized=None, smart_222_raw=None, smart_223_normalized=None, smart_223_raw=None, smart_224_normalized=None, smart_224_raw=None, smart_225_normalized=None, smart_225_raw=None, smart_226_normalized=None, smart_226_raw=None, smart_231_normalized=None, smart_231_raw=None, smart_232_normalized=None, smart_232_raw=None, smart_233_normalized=None, smart_233_raw=None, smart_235_normalized=None, smart_235_raw=None, smart_240_normalized=None, smart_240_raw=None, smart_241_normalized=None, smart_241_raw=None, smart_242_normalized=None, smart_242_raw=None, smart_250_normalized=None, smart_250_raw=None, smart_251_normalized=None, smart_251_raw=None, smart_252_normalized=None, smart_252_raw=None, smart_254_normalized=None, smart_254_raw=None, smart_255_normalized=None, smart_255_raw=None), Row(date='2019-03-12', serial_number='VKGKE46X', model='HGST HUH728080ALE600', capacity_bytes='8001563222016', failure='0', smart_1_normalized='100', smart_1_raw='0', smart_2_normalized='133', smart_2_raw='108', smart_3_normalized='100', smart_3_raw='0', smart_4_normalized='100', smart_4_raw='2', smart_5_normalized='100', smart_5_raw='0', smart_7_normalized='100', smart_7_raw='0', smart_8_normalized='128', smart_8_raw='18', smart_9_normalized='99', smart_9_raw='11525', smart_10_normalized='100', smart_10_raw='0', smart_11_normalized=None, smart_11_raw=None, smart_12_normalized='100', smart_12_raw='2', smart_13_normalized=None, smart_13_raw=None, smart_15_normalized=None, smart_15_raw=None, smart_16_normalized=None, smart_16_raw=None, smart_17_normalized=None, smart_17_raw=None, smart_22_normalized='100', smart_22_raw='100', smart_23_normalized=None, smart_23_raw=None, smart_24_normalized=None, smart_24_raw=None, smart_168_normalized=None, smart_168_raw=None, smart_170_normalized=None, smart_170_raw=None, smart_173_normalized=None, smart_173_raw=None, smart_174_normalized=None, smart_174_raw=None, smart_177_normalized=None, smart_177_raw=None, smart_179_normalized=None, smart_179_raw=None, smart_181_normalized=None, smart_181_raw=None, smart_182_normalized=None, smart_182_raw=None, smart_183_normalized=None, smart_183_raw=None, smart_184_normalized=None, smart_184_raw=None, smart_187_normalized=None, smart_187_raw=None, smart_188_normalized=None, smart_188_raw=None, smart_189_normalized=None, smart_189_raw=None, smart_190_normalized=None, smart_190_raw=None, smart_191_normalized=None, smart_191_raw=None, smart_192_normalized='91', smart_192_raw='10858', smart_193_normalized='91', smart_193_raw='10858', smart_194_normalized='250', smart_194_raw='24', smart_195_normalized=None, smart_195_raw=None, smart_196_normalized='100', smart_196_raw='0', smart_197_normalized='100', smart_197_raw='0', smart_198_normalized='100', smart_198_raw='0', smart_199_normalized='200', smart_199_raw='0', smart_200_normalized=None, smart_200_raw=None, smart_201_normalized=None, smart_201_raw=None, smart_218_normalized=None, smart_218_raw=None, smart_220_normalized=None, smart_220_raw=None, smart_222_normalized=None, smart_222_raw=None, smart_223_normalized=None, smart_223_raw=None, smart_224_normalized=None, smart_224_raw=None, smart_225_normalized=None, smart_225_raw=None, smart_226_normalized=None, smart_226_raw=None, smart_231_normalized=None, smart_231_raw=None, smart_232_normalized=None, smart_232_raw=None, smart_233_normalized=None, smart_233_raw=None, smart_235_normalized=None, smart_235_raw=None, smart_240_normalized=None, smart_240_raw=None, smart_241_normalized=None, smart_241_raw=None, smart_242_normalized=None, smart_242_raw=None, smart_250_normalized=None, smart_250_raw=None, smart_251_normalized=None, smart_251_raw=None, smart_252_normalized=None, smart_252_raw=None, smart_254_normalized=None, smart_254_raw=None, smart_255_normalized=None, smart_255_raw=None), Row(date='2019-03-12', serial_number='VKH15YPX', model='HGST HUH728080ALE600', capacity_bytes='8001563222016', failure='0', smart_1_normalized='100', smart_1_raw='0', smart_2_normalized='132', smart_2_raw='112', smart_3_normalized='100', smart_3_raw='0', smart_4_normalized='100', smart_4_raw='3', smart_5_normalized='100', smart_5_raw='1', smart_7_normalized='100', smart_7_raw='0', smart_8_normalized='128', smart_8_raw='18', smart_9_normalized='99', smart_9_raw='11526', smart_10_normalized='100', smart_10_raw='0', smart_11_normalized=None, smart_11_raw=None, smart_12_normalized='100', smart_12_raw='3', smart_13_normalized=None, smart_13_raw=None, smart_15_normalized=None, smart_15_raw=None, smart_16_normalized=None, smart_16_raw=None, smart_17_normalized=None, smart_17_raw=None, smart_22_normalized='100', smart_22_raw='100', smart_23_normalized=None, smart_23_raw=None, smart_24_normalized=None, smart_24_raw=None, smart_168_normalized=None, smart_168_raw=None, smart_170_normalized=None, smart_170_raw=None, smart_173_normalized=None, smart_173_raw=None, smart_174_normalized=None, smart_174_raw=None, smart_177_normalized=None, smart_177_raw=None, smart_179_normalized=None, smart_179_raw=None, smart_181_normalized=None, smart_181_raw=None, smart_182_normalized=None, smart_182_raw=None, smart_183_normalized=None, smart_183_raw=None, smart_184_normalized=None, smart_184_raw=None, smart_187_normalized=None, smart_187_raw=None, smart_188_normalized=None, smart_188_raw=None, smart_189_normalized=None, smart_189_raw=None, smart_190_normalized=None, smart_190_raw=None, smart_191_normalized=None, smart_191_raw=None, smart_192_normalized='92', smart_192_raw='9780', smart_193_normalized='92', smart_193_raw='9780', smart_194_normalized='181', smart_194_raw='33', smart_195_normalized=None, smart_195_raw=None, smart_196_normalized='100', smart_196_raw='1', smart_197_normalized='100', smart_197_raw='0', smart_198_normalized='100', smart_198_raw='0', smart_199_normalized='200', smart_199_raw='0', smart_200_normalized=None, smart_200_raw=None, smart_201_normalized=None, smart_201_raw=None, smart_218_normalized=None, smart_218_raw=None, smart_220_normalized=None, smart_220_raw=None, smart_222_normalized=None, smart_222_raw=None, smart_223_normalized=None, smart_223_raw=None, smart_224_normalized=None, smart_224_raw=None, smart_225_normalized=None, smart_225_raw=None, smart_226_normalized=None, smart_226_raw=None, smart_231_normalized=None, smart_231_raw=None, smart_232_normalized=None, smart_232_raw=None, smart_233_normalized=None, smart_233_raw=None, smart_235_normalized=None, smart_235_raw=None, smart_240_normalized=None, smart_240_raw=None, smart_241_normalized=None, smart_241_raw=None, smart_242_normalized=None, smart_242_raw=None, smart_250_normalized=None, smart_250_raw=None, smart_251_normalized=None, smart_251_raw=None, smart_252_normalized=None, smart_252_raw=None, smart_254_normalized=None, smart_254_raw=None, smart_255_normalized=None, smart_255_raw=None), Row(date='2019-03-12', serial_number='VKGZHKUX', model='HGST HUH728080ALE600', capacity_bytes='8001563222016', failure='0', smart_1_normalized='100', smart_1_raw='0', smart_2_normalized='133', smart_2_raw='106', smart_3_normalized='100', smart_3_raw='0', smart_4_normalized='100', smart_4_raw='2', smart_5_normalized='100', smart_5_raw='0', smart_7_normalized='100', smart_7_raw='0', smart_8_normalized='128', smart_8_raw='18', smart_9_normalized='99', smart_9_raw='11513', smart_10_normalized='100', smart_10_raw='0', smart_11_normalized=None, smart_11_raw=None, smart_12_normalized='100', smart_12_raw='2', smart_13_normalized=None, smart_13_raw=None, smart_15_normalized=None, smart_15_raw=None, smart_16_normalized=None, smart_16_raw=None, smart_17_normalized=None, smart_17_raw=None, smart_22_normalized='100', smart_22_raw='100', smart_23_normalized=None, smart_23_raw=None, smart_24_normalized=None, smart_24_raw=None, smart_168_normalized=None, smart_168_raw=None, smart_170_normalized=None, smart_170_raw=None, smart_173_normalized=None, smart_173_raw=None, smart_174_normalized=None, smart_174_raw=None, smart_177_normalized=None, smart_177_raw=None, smart_179_normalized=None, smart_179_raw=None, smart_181_normalized=None, smart_181_raw=None, smart_182_normalized=None, smart_182_raw=None, smart_183_normalized=None, smart_183_raw=None, smart_184_normalized=None, smart_184_raw=None, smart_187_normalized=None, smart_187_raw=None, smart_188_normalized=None, smart_188_raw=None, smart_189_normalized=None, smart_189_raw=None, smart_190_normalized=None, smart_190_raw=None, smart_191_normalized=None, smart_191_raw=None, smart_192_normalized='91', smart_192_raw='11561', smart_193_normalized='91', smart_193_raw='11561', smart_194_normalized='200', smart_194_raw='30', smart_195_normalized=None, smart_195_raw=None, smart_196_normalized='100', smart_196_raw='0', smart_197_normalized='100', smart_197_raw='0', smart_198_normalized='100', smart_198_raw='0', smart_199_normalized='200', smart_199_raw='0', smart_200_normalized=None, smart_200_raw=None, smart_201_normalized=None, smart_201_raw=None, smart_218_normalized=None, smart_218_raw=None, smart_220_normalized=None, smart_220_raw=None, smart_222_normalized=None, smart_222_raw=None, smart_223_normalized=None, smart_223_raw=None, smart_224_normalized=None, smart_224_raw=None, smart_225_normalized=None, smart_225_raw=None, smart_226_normalized=None, smart_226_raw=None, smart_231_normalized=None, smart_231_raw=None, smart_232_normalized=None, smart_232_raw=None, smart_233_normalized=None, smart_233_raw=None, smart_235_normalized=None, smart_235_raw=None, smart_240_normalized=None, smart_240_raw=None, smart_241_normalized=None, smart_241_raw=None, smart_242_normalized=None, smart_242_raw=None, smart_250_normalized=None, smart_250_raw=None, smart_251_normalized=None, smart_251_raw=None, smart_252_normalized=None, smart_252_raw=None, smart_254_normalized=None, smart_254_raw=None, smart_255_normalized=None, smart_255_raw=None)]\n"
     ]
    }
   ],
   "source": [
    "print(\" (c) first 20 rows, sorted by capacity (desceding) , model (ascending)\")\n",
    "df_c = df.orderBy(func.desc(\"capacity_bytes\"), func.asc(\"model\"))\n",
    "print(df_c.head(20))"
   ]
  },
  {
   "cell_type": "code",
   "execution_count": 20,
   "metadata": {},
   "outputs": [
    {
     "name": "stdout",
     "output_type": "stream",
     "text": [
      " (d) total number of rows \n",
      "9577046\n"
     ]
    }
   ],
   "source": [
    "print(\" (d) total number of rows \")\n",
    "print(df.count())"
   ]
  },
  {
   "cell_type": "code",
   "execution_count": 21,
   "metadata": {},
   "outputs": [
    {
     "name": "stdout",
     "output_type": "stream",
     "text": [
      " (e) Count the total number of rows, grouped by capacity:\n",
      "16\n"
     ]
    }
   ],
   "source": [
    "print(\" (e) Count the total number of rows, grouped by capacity:\")\n",
    "capacity_bytes = df.groupBy('capacity_bytes').count()\n",
    "print (capacity_bytes.count())"
   ]
  },
  {
   "cell_type": "code",
   "execution_count": 22,
   "metadata": {},
   "outputs": [
    {
     "name": "stdout",
     "output_type": "stream",
     "text": [
      " (f) dataframe summary statistics\n",
      "+-------+------------+--------------------+\n",
      "|summary|       model|      capacity_bytes|\n",
      "+-------+------------+--------------------+\n",
      "|  count|     9577046|             9577046|\n",
      "|   mean|        null|7.804058925479401E12|\n",
      "| stddev|        null|3.573331210943868E12|\n",
      "|    min| DELLBOSS VD|                  -1|\n",
      "|    max|WDC WD60EFRX|       8001563222016|\n",
      "+-------+------------+--------------------+\n",
      "\n",
      "None\n"
     ]
    }
   ],
   "source": [
    "print(\" (f) dataframe summary statistics\")\n",
    "print (df.select(\"model\",\"capacity_bytes\").describe().show())\n"
   ]
  },
  {
   "cell_type": "code",
   "execution_count": 23,
   "metadata": {},
   "outputs": [
    {
     "name": "stdout",
     "output_type": "stream",
     "text": [
      " (g) date, model, capacity_bytes\n",
      "+----------+--------------------+--------------+\n",
      "|      date|               model|capacity_bytes|\n",
      "+----------+--------------------+--------------+\n",
      "|2019-03-05|         ST4000DM000| 4000787030016|\n",
      "|2019-03-05|       ST12000NM0007|12000138625024|\n",
      "|2019-03-05|       ST12000NM0007|12000138625024|\n",
      "|2019-03-05|       ST12000NM0007|12000138625024|\n",
      "|2019-03-05|HGST HMS5C4040ALE640| 4000787030016|\n",
      "|2019-03-05|        ST8000NM0055| 8001563222016|\n",
      "|2019-03-05|       ST12000NM0007|12000138625024|\n",
      "|2019-03-05|       ST12000NM0007|12000138625024|\n",
      "|2019-03-05|       ST12000NM0007|12000138625024|\n",
      "|2019-03-05|        ST8000NM0055| 8001563222016|\n",
      "|2019-03-05|         ST4000DM000| 4000787030016|\n",
      "|2019-03-05|         ST8000DM002| 8001563222016|\n",
      "|2019-03-05|       ST12000NM0007|12000138625024|\n",
      "|2019-03-05|        ST8000NM0055| 8001563222016|\n",
      "|2019-03-05|       ST12000NM0007|12000138625024|\n",
      "|2019-03-05|HGST HMS5C4040ALE640| 4000787030016|\n",
      "|2019-03-05|HGST HMS5C4040BLE640| 4000787030016|\n",
      "|2019-03-05|HGST HMS5C4040BLE640| 4000787030016|\n",
      "|2019-03-05| TOSHIBA MG07ACA14TA|14000519643136|\n",
      "|2019-03-05|HGST HMS5C4040BLE640| 4000787030016|\n",
      "+----------+--------------------+--------------+\n",
      "only showing top 20 rows\n",
      "\n"
     ]
    }
   ],
   "source": [
    "print(\" (g) date, model, capacity_bytes\")\n",
    "df.select(\"date\",\"model\",\"capacity_bytes\").show()"
   ]
  },
  {
   "cell_type": "code",
   "execution_count": 24,
   "metadata": {},
   "outputs": [
    {
     "name": "stdout",
     "output_type": "stream",
     "text": [
      " (h) number of distinct models\n",
      "+--------------------+\n",
      "|               model|\n",
      "+--------------------+\n",
      "|         ST4000DM000|\n",
      "|       ST12000NM0007|\n",
      "|         ST8000DM005|\n",
      "|          ST320LT007|\n",
      "| TOSHIBA MQ01ABF050M|\n",
      "|        ST8000NM0055|\n",
      "|Seagate BarraCuda...|\n",
      "| TOSHIBA MG07ACA14TA|\n",
      "|        WDC WD60EFRX|\n",
      "|         ST8000DM002|\n",
      "|         ST4000DM005|\n",
      "|         DELLBOSS VD|\n",
      "|HGST HUS726040ALE610|\n",
      "|     TOSHIBA HDWF180|\n",
      "|HGST HMS5C4040ALE640|\n",
      "|HGST HUH721010ALE600|\n",
      "| TOSHIBA MD04ABA500V|\n",
      "| TOSHIBA MD04ABA400V|\n",
      "|       ST10000NM0086|\n",
      "|      WDC WD2500AAJS|\n",
      "+--------------------+\n",
      "only showing top 20 rows\n",
      "\n"
     ]
    }
   ],
   "source": [
    "print(\" (h) number of distinct models\")\n",
    "df.select(\"model\").distinct().show()"
   ]
  },
  {
   "cell_type": "markdown",
   "metadata": {},
   "source": [
    "# Calculate the pairwise frequency of this two columns (e.g. crosstab):\n",
    "# capacity, smart_1_normalized"
   ]
  },
  {
   "cell_type": "code",
   "execution_count": 25,
   "metadata": {},
   "outputs": [
    {
     "name": "stdout",
     "output_type": "stream",
     "text": [
      "i :\n"
     ]
    },
    {
     "data": {
      "text/plain": [
       "DataFrame[capacity_bytes_smart_1_normalized: string, 100: bigint, 101: bigint, 102: bigint, 103: bigint, 104: bigint, 105: bigint, 106: bigint, 107: bigint, 108: bigint, 109: bigint, 110: bigint, 111: bigint, 112: bigint, 113: bigint, 114: bigint, 115: bigint, 116: bigint, 117: bigint, 118: bigint, 119: bigint, 120: bigint, 149: bigint, 153: bigint, 160: bigint, 187: bigint, 199: bigint, 200: bigint, 49: bigint, 50: bigint, 51: bigint, 53: bigint, 54: bigint, 55: bigint, 56: bigint, 57: bigint, 58: bigint, 59: bigint, 60: bigint, 61: bigint, 62: bigint, 63: bigint, 64: bigint, 65: bigint, 66: bigint, 67: bigint, 68: bigint, 69: bigint, 70: bigint, 71: bigint, 72: bigint, 73: bigint, 74: bigint, 75: bigint, 76: bigint, 77: bigint, 78: bigint, 79: bigint, 80: bigint, 81: bigint, 82: bigint, 83: bigint, 84: bigint, 85: bigint, 86: bigint, 87: bigint, 88: bigint, 89: bigint, 90: bigint, 91: bigint, 92: bigint, 93: bigint, 94: bigint, 95: bigint, 96: bigint, 97: bigint, 98: bigint, 99: bigint, null: bigint]"
      ]
     },
     "execution_count": 25,
     "metadata": {},
     "output_type": "execute_result"
    }
   ],
   "source": [
    "print (\"i :\")\n",
    "\n",
    "df.stat.crosstab(\"capacity_bytes\", \"smart_1_normalized\")"
   ]
  },
  {
   "cell_type": "markdown",
   "metadata": {},
   "source": [
    "# Find the mean value of column capacity"
   ]
  },
  {
   "cell_type": "code",
   "execution_count": 26,
   "metadata": {},
   "outputs": [
    {
     "name": "stdout",
     "output_type": "stream",
     "text": [
      " (j) :\n",
      "+--------------------+\n",
      "| avg(capacity_bytes)|\n",
      "+--------------------+\n",
      "|7.804058925479401E12|\n",
      "+--------------------+\n",
      "\n",
      "None\n"
     ]
    }
   ],
   "source": [
    "print(\" (j) :\")\n",
    "print(df.select(func.mean(\"capacity_bytes\")).show())"
   ]
  },
  {
   "cell_type": "code",
   "execution_count": null,
   "metadata": {},
   "outputs": [],
   "source": []
  }
 ],
 "metadata": {
  "kernelspec": {
   "display_name": "Python 3",
   "language": "python",
   "name": "python3"
  },
  "language_info": {
   "codemirror_mode": {
    "name": "ipython",
    "version": 3
   },
   "file_extension": ".py",
   "mimetype": "text/x-python",
   "name": "python",
   "nbconvert_exporter": "python",
   "pygments_lexer": "ipython3",
   "version": "3.7.3"
  }
 },
 "nbformat": 4,
 "nbformat_minor": 2
}
