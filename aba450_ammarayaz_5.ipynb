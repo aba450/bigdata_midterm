{
 "cells": [
  {
   "cell_type": "code",
   "execution_count": 1,
   "metadata": {},
   "outputs": [],
   "source": [
    "import findspark"
   ]
  },
  {
   "cell_type": "code",
   "execution_count": 2,
   "metadata": {},
   "outputs": [],
   "source": [
    "from pyspark.sql import SparkSession\n",
    "from pyspark.sql.types import *"
   ]
  },
  {
   "cell_type": "code",
   "execution_count": 3,
   "metadata": {},
   "outputs": [],
   "source": [
    "from pyspark.ml.linalg import Vectors\n",
    "from pyspark.sql.functions import col"
   ]
  },
  {
   "cell_type": "code",
   "execution_count": 4,
   "metadata": {},
   "outputs": [],
   "source": [
    "from pyspark.sql import *\n",
    "from pyspark import SparkContext, SparkConf\n",
    "from pyspark.sql.functions import udf"
   ]
  },
  {
   "cell_type": "code",
   "execution_count": 5,
   "metadata": {},
   "outputs": [],
   "source": [
    "spark = SparkSession.builder.appName(\"take_home\").getOrCreate()"
   ]
  },
  {
   "cell_type": "markdown",
   "metadata": {},
   "source": [
    "# using smaller subset from the cookbook data as it was not running on my local machine"
   ]
  },
  {
   "cell_type": "code",
   "execution_count": 6,
   "metadata": {},
   "outputs": [],
   "source": [
    "data = spark.sparkContext.wholeTextFiles(\"cook_trial\")"
   ]
  },
  {
   "cell_type": "code",
   "execution_count": 7,
   "metadata": {},
   "outputs": [],
   "source": [
    "#creating fields for name and column for easier manipulation\n",
    "columns = \"name content\""
   ]
  },
  {
   "cell_type": "code",
   "execution_count": 8,
   "metadata": {},
   "outputs": [],
   "source": [
    "fields = [StructField(field_name, StringType(), True) for field_name in columns.split()]"
   ]
  },
  {
   "cell_type": "code",
   "execution_count": 9,
   "metadata": {},
   "outputs": [],
   "source": [
    "spark.sparkContext.setSystemProperty('spark.executor.memory', '6g')"
   ]
  },
  {
   "cell_type": "code",
   "execution_count": 10,
   "metadata": {},
   "outputs": [],
   "source": [
    "#creating a schema for the fields name and content\n",
    "schema = StructType(fields)"
   ]
  },
  {
   "cell_type": "code",
   "execution_count": 11,
   "metadata": {},
   "outputs": [],
   "source": [
    "#now lets strip the data into name and content and then feed it into a df\n",
    "data_map = data.map(lambda x:Row(name=x[0], content=x[1].strip()))"
   ]
  },
  {
   "cell_type": "code",
   "execution_count": 12,
   "metadata": {},
   "outputs": [],
   "source": [
    "# now lets use the mapped data to create the data frame\n",
    "df = spark.createDataFrame(data_map,schema)"
   ]
  },
  {
   "cell_type": "code",
   "execution_count": 13,
   "metadata": {},
   "outputs": [
    {
     "name": "stdout",
     "output_type": "stream",
     "text": [
      "+--------------------+--------------------+\n",
      "|                name|             content|\n",
      "+--------------------+--------------------+\n",
      "|file:/Users/ammar...|Henriette Davidis...|\n",
      "|file:/Users/ammar...|Cooking in old Cr...|\n",
      "+--------------------+--------------------+\n",
      "only showing top 2 rows\n",
      "\n"
     ]
    }
   ],
   "source": [
    "# now lets look at our data frame\n",
    "df.show(2)"
   ]
  },
  {
   "cell_type": "code",
   "execution_count": 14,
   "metadata": {},
   "outputs": [],
   "source": [
    "# now lets define our get shingles method, in this we pass in the text and char_ngram\n",
    "def get_shingles(text, char_ngram=5):\n",
    "    \"\"\"Create a set of overlapping character n-grams.\n",
    "    \n",
    "    Only full length character n-grams are created, that is the first character\n",
    "    n-gram is the first `char_ngram` characters from text, no padding is applied.\n",
    "\n",
    "    Each n-gram is spaced exactly one character apart.\n",
    "\n",
    "    Parameters\n",
    "    ----------\n",
    "\n",
    "    text: str\n",
    "        The string from which the character n-grams are created.\n",
    "\n",
    "    char_ngram: int (default 5)\n",
    "        Length of each character n-gram.\n",
    "    \"\"\"\n",
    "    return list(set(text[head:head + char_ngram] for head in range(0, len(text) - char_ngram)))"
   ]
  },
  {
   "cell_type": "code",
   "execution_count": 15,
   "metadata": {},
   "outputs": [],
   "source": [
    "# now lets create a udf to handle our contents of the data frame and create shingles from the content\n",
    "udf = udf(lambda y : get_shingles(y),ArrayType(StringType()))"
   ]
  },
  {
   "cell_type": "code",
   "execution_count": 16,
   "metadata": {},
   "outputs": [],
   "source": [
    "# now we will create a column shingles in our data frame using the udf above\n",
    "df = df.withColumn(\"shingles\",udf(df.content))\n"
   ]
  },
  {
   "cell_type": "code",
   "execution_count": 17,
   "metadata": {},
   "outputs": [
    {
     "name": "stdout",
     "output_type": "stream",
     "text": [
      "+--------------------+--------------------+--------------------+\n",
      "|                name|             content|            shingles|\n",
      "+--------------------+--------------------+--------------------+\n",
      "|file:/Users/ammar...|Henriette Davidis...|[k, bo, ted m, s-...|\n",
      "|file:/Users/ammar...|Cooking in old Cr...|[k, bo, vin d, RN...|\n",
      "+--------------------+--------------------+--------------------+\n",
      "only showing top 2 rows\n",
      "\n"
     ]
    }
   ],
   "source": [
    "df.show(2)"
   ]
  },
  {
   "cell_type": "code",
   "execution_count": 18,
   "metadata": {},
   "outputs": [],
   "source": [
    "#now lets drop the content column for further processing\n",
    "df_new = df.drop(\"content\")"
   ]
  },
  {
   "cell_type": "code",
   "execution_count": 19,
   "metadata": {},
   "outputs": [
    {
     "name": "stdout",
     "output_type": "stream",
     "text": [
      "+--------------------+--------------------+\n",
      "|                name|            shingles|\n",
      "+--------------------+--------------------+\n",
      "|file:/Users/ammar...|[k, bo, ted m, s-...|\n",
      "|file:/Users/ammar...|[k, bo, vin d, RN...|\n",
      "|file:/Users/ammar...|[ted m,  Litt, s ...|\n",
      "+--------------------+--------------------+\n",
      "only showing top 3 rows\n",
      "\n"
     ]
    }
   ],
   "source": [
    "df_new.show(3)"
   ]
  },
  {
   "cell_type": "code",
   "execution_count": 20,
   "metadata": {},
   "outputs": [],
   "source": [
    "# now lets use count vectoriser to get the term frequency vector\n",
    "from pyspark.ml.feature import CountVectorizer"
   ]
  },
  {
   "cell_type": "code",
   "execution_count": 21,
   "metadata": {},
   "outputs": [],
   "source": [
    "from pyspark.mllib.feature import HashingTF"
   ]
  },
  {
   "cell_type": "code",
   "execution_count": 22,
   "metadata": {},
   "outputs": [],
   "source": [
    "from pyspark.mllib.feature import IDF"
   ]
  },
  {
   "cell_type": "code",
   "execution_count": 23,
   "metadata": {},
   "outputs": [],
   "source": [
    "#removing the words which appear in less than 5 documents\n",
    "#cv = CountVectorizer(inputCol=\"shingles\", outputCol=\"features\", vocabSize=50000, minDF=5.0)"
   ]
  },
  {
   "cell_type": "code",
   "execution_count": 36,
   "metadata": {},
   "outputs": [],
   "source": [
    "#fitting our data with file name and shingles to the count vectorizer\n",
    "cv = CountVectorizer(inputCol=\"shingles\", outputCol=\"features\", vocabSize=50000, minDF=10.0)\n",
    "model = cv.fit(df_new)\n",
    "result = model.transform(df_new)"
   ]
  },
  {
   "cell_type": "code",
   "execution_count": 37,
   "metadata": {},
   "outputs": [],
   "source": [
    "from pyspark.ml.feature import MinHashLSH"
   ]
  },
  {
   "cell_type": "code",
   "execution_count": 38,
   "metadata": {},
   "outputs": [],
   "source": [
    " mh = MinHashLSH(inputCol=\"features\", outputCol=\"hashes\", seed=12345)"
   ]
  },
  {
   "cell_type": "code",
   "execution_count": 39,
   "metadata": {},
   "outputs": [],
   "source": [
    "model = mh.fit(result)\n",
    "#model.transform(df_new).head()"
   ]
  },
  {
   "cell_type": "code",
   "execution_count": 40,
   "metadata": {},
   "outputs": [],
   "source": [
    "# we just need to transform the result using the minhash and then get the hashes with similar content\n",
    "final = model.transform(result)"
   ]
  },
  {
   "cell_type": "code",
   "execution_count": 41,
   "metadata": {},
   "outputs": [],
   "source": [
    "#now lets group the documents with same hashes together to know the documents which have similar content\n",
    "final.createOrReplaceTempView(\"final\")\n",
    "grouped = spark.sql(\"select a.name as fileName,a.hashes as hashcode from final a  group by a.hashes,a.name order by a.hashes\")\n",
    " "
   ]
  },
  {
   "cell_type": "code",
   "execution_count": 42,
   "metadata": {},
   "outputs": [
    {
     "name": "stdout",
     "output_type": "stream",
     "text": [
      "+--------------------+-----------+\n",
      "|            fileName|   hashcode|\n",
      "+--------------------+-----------+\n",
      "|file:/Users/ammar...|[[32321.0]]|\n",
      "|file:/Users/ammar...|[[32321.0]]|\n",
      "|file:/Users/ammar...|[[32321.0]]|\n",
      "|file:/Users/ammar...|[[32321.0]]|\n",
      "|file:/Users/ammar...|[[32321.0]]|\n",
      "|file:/Users/ammar...|[[32321.0]]|\n",
      "|file:/Users/ammar...|[[32321.0]]|\n",
      "|file:/Users/ammar...|[[32321.0]]|\n",
      "|file:/Users/ammar...|[[32321.0]]|\n",
      "|file:/Users/ammar...|[[32321.0]]|\n",
      "|file:/Users/ammar...|[[32321.0]]|\n",
      "|file:/Users/ammar...|[[32321.0]]|\n",
      "|file:/Users/ammar...|[[32321.0]]|\n",
      "|file:/Users/ammar...|[[32321.0]]|\n",
      "|file:/Users/ammar...|[[32321.0]]|\n",
      "|file:/Users/ammar...|[[32321.0]]|\n",
      "|file:/Users/ammar...|[[32321.0]]|\n",
      "|file:/Users/ammar...|[[32321.0]]|\n",
      "|file:/Users/ammar...|[[32321.0]]|\n",
      "|file:/Users/ammar...|[[32321.0]]|\n",
      "+--------------------+-----------+\n",
      "only showing top 20 rows\n",
      "\n"
     ]
    }
   ],
   "source": [
    "grouped.show()"
   ]
  },
  {
   "cell_type": "code",
   "execution_count": null,
   "metadata": {},
   "outputs": [],
   "source": []
  }
 ],
 "metadata": {
  "kernelspec": {
   "display_name": "Python 3",
   "language": "python",
   "name": "python3"
  },
  "language_info": {
   "codemirror_mode": {
    "name": "ipython",
    "version": 3
   },
   "file_extension": ".py",
   "mimetype": "text/x-python",
   "name": "python",
   "nbconvert_exporter": "python",
   "pygments_lexer": "ipython3",
   "version": "3.7.3"
  }
 },
 "nbformat": 4,
 "nbformat_minor": 2
}
